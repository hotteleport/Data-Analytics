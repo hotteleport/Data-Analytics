{
 "cells": [
  {
   "cell_type": "code",
   "execution_count": 114,
   "metadata": {},
   "outputs": [
    {
     "name": "stdout",
     "output_type": "stream",
     "text": [
      "[1, 1, 1, 1, 1, 1, 1, 1, 1, 1, 1, 1, 1, 1, 1]\n"
     ]
    }
   ],
   "source": [
    "# ex_1\n",
    "# 1\n",
    "lst = [1] * 15\n",
    "print(lst)   "
   ]
  },
  {
   "cell_type": "code",
   "execution_count": 115,
   "metadata": {},
   "outputs": [
    {
     "data": {
      "text/plain": [
       "[7, 7, 7, 7, 7, 7, 7, 7, 7, 7, 7, 7, 7, 7, 7]"
      ]
     },
     "execution_count": 115,
     "metadata": {},
     "output_type": "execute_result"
    }
   ],
   "source": [
    "# 2\n",
    "import itertools\n",
    "itertools.repeat(7, 15)\n",
    "list(itertools.repeat(7, 15))"
   ]
  },
  {
   "cell_type": "code",
   "execution_count": 116,
   "metadata": {},
   "outputs": [
    {
     "name": "stdout",
     "output_type": "stream",
     "text": [
      "[100, 101, 102, 103, 104, 105, 106, 107, 108, 109, 110, 111, 112, 113, 114, 115, 116, 117, 118, 119, 120, 121, 122, 123, 124, 125, 126, 127, 128, 129, 130, 131, 132, 133, 134, 135, 136, 137, 138, 139, 140, 141, 142, 143, 144, 145, 146, 147, 148, 149, 150]\n"
     ]
    }
   ],
   "source": [
    "# 3\n",
    "lst = list(range(100,151))\n",
    "print(lst)"
   ]
  },
  {
   "cell_type": "code",
   "execution_count": 117,
   "metadata": {},
   "outputs": [
    {
     "name": "stdout",
     "output_type": "stream",
     "text": [
      "0\n",
      "2\n",
      "4\n",
      "6\n",
      "8\n",
      "10\n",
      "12\n",
      "14\n",
      "16\n",
      "18\n",
      "20\n",
      "22\n",
      "24\n",
      "26\n",
      "28\n",
      "30\n",
      "32\n",
      "34\n",
      "36\n",
      "38\n",
      "40\n",
      "42\n",
      "44\n",
      "46\n",
      "48\n",
      "50\n",
      "52\n",
      "54\n",
      "56\n",
      "58\n",
      "60\n",
      "62\n",
      "64\n",
      "66\n",
      "68\n",
      "70\n",
      "72\n",
      "74\n",
      "76\n",
      "78\n",
      "80\n",
      "82\n",
      "84\n",
      "86\n",
      "88\n",
      "90\n",
      "92\n",
      "94\n",
      "96\n",
      "98\n",
      "100\n"
     ]
    }
   ],
   "source": [
    "# 4\n",
    "lst = list(range(0,101))\n",
    "for num in lst:\n",
    "    if num % 2 == 0:\n",
    "        print(num)"
   ]
  },
  {
   "cell_type": "code",
   "execution_count": 118,
   "metadata": {},
   "outputs": [
    {
     "name": "stdout",
     "output_type": "stream",
     "text": [
      "years what divisible by 4 are: [1950, 1963, 1976, 1989, 2002, 2015]\n"
     ]
    }
   ],
   "source": [
    "# 5\n",
    "lst = list(range(1950,2020))\n",
    "lst2 = list(filter(lambda x: (x % 13 == 0), lst))\n",
    "print(\"years what divisible by 4 are:\", lst2)"
   ]
  },
  {
   "cell_type": "code",
   "execution_count": 119,
   "metadata": {},
   "outputs": [
    {
     "data": {
      "text/html": [
       "<table style='border-style:solid;border-width:1px;'>\n",
       "<tr><td style=\"font-family:monospace;white-space: pre;\" title=\"0\"><center>0.</center></td></tr>\n",
       "<tr><td style=\"font-family:monospace;white-space: pre;\" title=\"1\"><center>0.</center></td></tr>\n",
       "<tr><td style=\"font-family:monospace;white-space: pre;\" title=\"2\"><center>0.</center></td></tr>\n",
       "<tr><td style=\"font-family:monospace;white-space: pre;\" title=\"3\"><center>0.</center></td></tr>\n",
       "<tr><td style=\"font-family:monospace;white-space: pre;\" title=\"4\"><center>0.</center></td></tr>\n",
       "<tr><td style=\"font-family:monospace;white-space: pre;\" title=\"5\"><center>0.</center></td></tr>\n",
       "<tr><td style=\"font-family:monospace;white-space: pre;\" title=\"6\"><center>0.</center></td></tr>\n",
       "<tr><td style=\"font-family:monospace;white-space: pre;\" title=\"7\"><center>0.</center></td></tr>\n",
       "<tr><td style=\"font-family:monospace;white-space: pre;\" title=\"8\"><center>0.</center></td></tr>\n",
       "<tr><td style=\"font-family:monospace;white-space: pre;\" title=\"9\"><center>0.</center></td></tr>\n",
       "<tr><td style=\"font-family:monospace;white-space: pre;\" title=\"10\"><center>0.</center></td></tr>\n",
       "<tr><td style=\"font-family:monospace;white-space: pre;\" title=\"11\"><center>0.</center></td></tr>\n",
       "<tr><td style=\"font-family:monospace;white-space: pre;\" title=\"12\"><center>0.</center></td></tr>\n",
       "<tr><td style=\"font-family:monospace;white-space: pre;\" title=\"13\"><center>0.</center></td></tr>\n",
       "<tr><td style=\"font-family:monospace;white-space: pre;\" title=\"14\"><center>0.</center></td></tr>\n",
       "</table>"
      ],
      "text/plain": [
       "array([0., 0., 0., 0., 0., 0., 0., 0., 0., 0., 0., 0., 0., 0., 0.])"
      ]
     },
     "execution_count": 119,
     "metadata": {},
     "output_type": "execute_result"
    }
   ],
   "source": [
    "# ex_2\n",
    "# 1\n",
    "import numpy as np\n",
    "array = np.zeros(15)\n",
    "array"
   ]
  },
  {
   "cell_type": "code",
   "execution_count": 120,
   "metadata": {},
   "outputs": [
    {
     "data": {
      "text/html": [
       "<table style='border-style:solid;border-width:1px;'>\n",
       "<tr><td style=\"font-family:monospace;white-space: pre;\" title=\"0\"><center>1.</center></td></tr>\n",
       "<tr><td style=\"font-family:monospace;white-space: pre;\" title=\"1\"><center>1.</center></td></tr>\n",
       "<tr><td style=\"font-family:monospace;white-space: pre;\" title=\"2\"><center>1.</center></td></tr>\n",
       "<tr><td style=\"font-family:monospace;white-space: pre;\" title=\"3\"><center>1.</center></td></tr>\n",
       "<tr><td style=\"font-family:monospace;white-space: pre;\" title=\"4\"><center>1.</center></td></tr>\n",
       "<tr><td style=\"font-family:monospace;white-space: pre;\" title=\"5\"><center>1.</center></td></tr>\n",
       "<tr><td style=\"font-family:monospace;white-space: pre;\" title=\"6\"><center>1.</center></td></tr>\n",
       "<tr><td style=\"font-family:monospace;white-space: pre;\" title=\"7\"><center>1.</center></td></tr>\n",
       "<tr><td style=\"font-family:monospace;white-space: pre;\" title=\"8\"><center>1.</center></td></tr>\n",
       "<tr><td style=\"font-family:monospace;white-space: pre;\" title=\"9\"><center>1.</center></td></tr>\n",
       "<tr><td style=\"font-family:monospace;white-space: pre;\" title=\"10\"><center>1.</center></td></tr>\n",
       "<tr><td style=\"font-family:monospace;white-space: pre;\" title=\"11\"><center>1.</center></td></tr>\n",
       "<tr><td style=\"font-family:monospace;white-space: pre;\" title=\"12\"><center>1.</center></td></tr>\n",
       "<tr><td style=\"font-family:monospace;white-space: pre;\" title=\"13\"><center>1.</center></td></tr>\n",
       "<tr><td style=\"font-family:monospace;white-space: pre;\" title=\"14\"><center>1.</center></td></tr>\n",
       "</table>"
      ],
      "text/plain": [
       "array([1., 1., 1., 1., 1., 1., 1., 1., 1., 1., 1., 1., 1., 1., 1.])"
      ]
     },
     "execution_count": 120,
     "metadata": {},
     "output_type": "execute_result"
    }
   ],
   "source": [
    "# 2\n",
    "array = np.ones(15)\n",
    "array\n",
    "\n"
   ]
  },
  {
   "cell_type": "code",
   "execution_count": 121,
   "metadata": {},
   "outputs": [
    {
     "name": "stdout",
     "output_type": "stream",
     "text": [
      "[7 7 7 7 7 7 7 7 7 7 7 7 7 7 7]\n"
     ]
    }
   ],
   "source": [
    "# 3\n",
    "import numpy as np\n",
    "array = np.array([7])\n",
    "array2 = np.repeat(array, 15)\n",
    "print(array2)"
   ]
  },
  {
   "cell_type": "code",
   "execution_count": 122,
   "metadata": {},
   "outputs": [
    {
     "data": {
      "text/html": [
       "<table style='border-style:solid;border-width:1px;'>\n",
       "<tr><td style=\"font-family:monospace;white-space: pre;\" title=\"0\"><center>100</center></td></tr>\n",
       "<tr><td style=\"font-family:monospace;white-space: pre;\" title=\"1\"><center>101</center></td></tr>\n",
       "<tr><td style=\"font-family:monospace;white-space: pre;\" title=\"2\"><center>102</center></td></tr>\n",
       "<tr><td style=\"font-family:monospace;white-space: pre;\" title=\"3\"><center>103</center></td></tr>\n",
       "<tr><td style=\"font-family:monospace;white-space: pre;\" title=\"4\"><center>104</center></td></tr>\n",
       "<tr><td style=\"font-family:monospace;white-space: pre;\" title=\"5\"><center>105</center></td></tr>\n",
       "<tr><td style=\"font-family:monospace;white-space: pre;\" title=\"6\"><center>106</center></td></tr>\n",
       "<tr><td style=\"font-family:monospace;white-space: pre;\" title=\"7\"><center>107</center></td></tr>\n",
       "<tr><td style=\"font-family:monospace;white-space: pre;\" title=\"8\"><center>108</center></td></tr>\n",
       "<tr><td style=\"font-family:monospace;white-space: pre;\" title=\"9\"><center>109</center></td></tr>\n",
       "<tr><td style=\"font-family:monospace;white-space: pre;\" title=\"10\"><center>110</center></td></tr>\n",
       "<tr><td style=\"font-family:monospace;white-space: pre;\" title=\"11\"><center>111</center></td></tr>\n",
       "<tr><td style=\"font-family:monospace;white-space: pre;\" title=\"12\"><center>112</center></td></tr>\n",
       "<tr><td style=\"font-family:monospace;white-space: pre;\" title=\"13\"><center>113</center></td></tr>\n",
       "<tr><td style=\"font-family:monospace;white-space: pre;\" title=\"14\"><center>114</center></td></tr>\n",
       "<tr><td style=\"font-family:monospace;white-space: pre;\" title=\"15\"><center>115</center></td></tr>\n",
       "<tr><td style=\"font-family:monospace;white-space: pre;\" title=\"16\"><center>116</center></td></tr>\n",
       "<tr><td style=\"font-family:monospace;white-space: pre;\" title=\"17\"><center>117</center></td></tr>\n",
       "<tr><td style=\"font-family:monospace;white-space: pre;\" title=\"18\"><center>118</center></td></tr>\n",
       "<tr><td style=\"font-family:monospace;white-space: pre;\" title=\"19\"><center>119</center></td></tr>\n",
       "<tr><td style=\"font-family:monospace;white-space: pre;\" title=\"20\"><center>120</center></td></tr>\n",
       "<tr><td style=\"font-family:monospace;white-space: pre;\" title=\"21\"><center>121</center></td></tr>\n",
       "<tr><td style=\"font-family:monospace;white-space: pre;\" title=\"22\"><center>122</center></td></tr>\n",
       "<tr><td style=\"font-family:monospace;white-space: pre;\" title=\"23\"><center>123</center></td></tr>\n",
       "<tr><td style=\"font-family:monospace;white-space: pre;\" title=\"24\"><center>124</center></td></tr>\n",
       "<tr><td style=\"font-family:monospace;white-space: pre;\" title=\"25\"><center>125</center></td></tr>\n",
       "<tr><td style=\"font-family:monospace;white-space: pre;\" title=\"26\"><center>126</center></td></tr>\n",
       "<tr><td style=\"font-family:monospace;white-space: pre;\" title=\"27\"><center>127</center></td></tr>\n",
       "<tr><td style=\"font-family:monospace;white-space: pre;\" title=\"28\"><center>128</center></td></tr>\n",
       "<tr><td style=\"font-family:monospace;white-space: pre;\" title=\"29\"><center>129</center></td></tr>\n",
       "<tr><td style=\"font-family:monospace;white-space: pre;\" title=\"30\"><center>130</center></td></tr>\n",
       "<tr><td style=\"font-family:monospace;white-space: pre;\" title=\"31\"><center>131</center></td></tr>\n",
       "<tr><td style=\"font-family:monospace;white-space: pre;\" title=\"32\"><center>132</center></td></tr>\n",
       "<tr><td style=\"font-family:monospace;white-space: pre;\" title=\"33\"><center>133</center></td></tr>\n",
       "<tr><td style=\"font-family:monospace;white-space: pre;\" title=\"34\"><center>134</center></td></tr>\n",
       "<tr><td style=\"font-family:monospace;white-space: pre;\" title=\"35\"><center>135</center></td></tr>\n",
       "<tr><td style=\"font-family:monospace;white-space: pre;\" title=\"36\"><center>136</center></td></tr>\n",
       "<tr><td style=\"font-family:monospace;white-space: pre;\" title=\"37\"><center>137</center></td></tr>\n",
       "<tr><td style=\"font-family:monospace;white-space: pre;\" title=\"38\"><center>138</center></td></tr>\n",
       "<tr><td style=\"font-family:monospace;white-space: pre;\" title=\"39\"><center>139</center></td></tr>\n",
       "<tr><td style=\"font-family:monospace;white-space: pre;\" title=\"40\"><center>140</center></td></tr>\n",
       "<tr><td style=\"font-family:monospace;white-space: pre;\" title=\"41\"><center>141</center></td></tr>\n",
       "<tr><td style=\"font-family:monospace;white-space: pre;\" title=\"42\"><center>142</center></td></tr>\n",
       "<tr><td style=\"font-family:monospace;white-space: pre;\" title=\"43\"><center>143</center></td></tr>\n",
       "<tr><td style=\"font-family:monospace;white-space: pre;\" title=\"44\"><center>144</center></td></tr>\n",
       "<tr><td style=\"font-family:monospace;white-space: pre;\" title=\"45\"><center>145</center></td></tr>\n",
       "<tr><td style=\"font-family:monospace;white-space: pre;\" title=\"46\"><center>146</center></td></tr>\n",
       "<tr><td style=\"font-family:monospace;white-space: pre;\" title=\"47\"><center>147</center></td></tr>\n",
       "<tr><td style=\"font-family:monospace;white-space: pre;\" title=\"48\"><center>148</center></td></tr>\n",
       "<tr><td style=\"font-family:monospace;white-space: pre;\" title=\"49\"><center>149</center></td></tr>\n",
       "<tr><td style=\"font-family:monospace;white-space: pre;\" title=\"50\"><center>150</center></td></tr>\n",
       "</table>"
      ],
      "text/plain": [
       "array([100, 101, 102, 103, 104, 105, 106, 107, 108, 109, 110, 111, 112,\n",
       "       113, 114, 115, 116, 117, 118, 119, 120, 121, 122, 123, 124, 125,\n",
       "       126, 127, 128, 129, 130, 131, 132, 133, 134, 135, 136, 137, 138,\n",
       "       139, 140, 141, 142, 143, 144, 145, 146, 147, 148, 149, 150])"
      ]
     },
     "execution_count": 122,
     "metadata": {},
     "output_type": "execute_result"
    }
   ],
   "source": [
    "# 4\n",
    "array = np.arange(100,151)\n",
    "array"
   ]
  },
  {
   "cell_type": "code",
   "execution_count": 123,
   "metadata": {},
   "outputs": [
    {
     "data": {
      "text/html": [
       "<table style='border-style:solid;border-width:1px;'>\n",
       "<tr><td style=\"font-family:monospace;white-space: pre;\" title=\"0\"><center>1900</center></td></tr>\n",
       "<tr><td style=\"font-family:monospace;white-space: pre;\" title=\"1\"><center>1901</center></td></tr>\n",
       "<tr><td style=\"font-family:monospace;white-space: pre;\" title=\"2\"><center>1902</center></td></tr>\n",
       "<tr><td style=\"font-family:monospace;white-space: pre;\" title=\"3\"><center>1903</center></td></tr>\n",
       "<tr><td style=\"font-family:monospace;white-space: pre;\" title=\"4\"><center>1904</center></td></tr>\n",
       "<tr><td style=\"font-family:monospace;white-space: pre;\" title=\"5\"><center>1905</center></td></tr>\n",
       "<tr><td style=\"font-family:monospace;white-space: pre;\" title=\"6\"><center>1906</center></td></tr>\n",
       "<tr><td style=\"font-family:monospace;white-space: pre;\" title=\"7\"><center>1907</center></td></tr>\n",
       "<tr><td style=\"font-family:monospace;white-space: pre;\" title=\"8\"><center>1908</center></td></tr>\n",
       "<tr><td style=\"font-family:monospace;white-space: pre;\" title=\"9\"><center>1909</center></td></tr>\n",
       "<tr><td style=\"font-family:monospace;white-space: pre;\" title=\"10\"><center>1910</center></td></tr>\n",
       "<tr><td style=\"font-family:monospace;white-space: pre;\" title=\"11\"><center>1911</center></td></tr>\n",
       "<tr><td style=\"font-family:monospace;white-space: pre;\" title=\"12\"><center>1912</center></td></tr>\n",
       "<tr><td style=\"font-family:monospace;white-space: pre;\" title=\"13\"><center>1913</center></td></tr>\n",
       "<tr><td style=\"font-family:monospace;white-space: pre;\" title=\"14\"><center>1914</center></td></tr>\n",
       "<tr><td style=\"font-family:monospace;white-space: pre;\" title=\"15\"><center>1915</center></td></tr>\n",
       "<tr><td style=\"font-family:monospace;white-space: pre;\" title=\"16\"><center>1916</center></td></tr>\n",
       "<tr><td style=\"font-family:monospace;white-space: pre;\" title=\"17\"><center>1917</center></td></tr>\n",
       "<tr><td style=\"font-family:monospace;white-space: pre;\" title=\"18\"><center>1918</center></td></tr>\n",
       "<tr><td style=\"font-family:monospace;white-space: pre;\" title=\"19\"><center>1919</center></td></tr>\n",
       "<tr><td style=\"font-family:monospace;white-space: pre;\" title=\"20\"><center>1920</center></td></tr>\n",
       "<tr><td style=\"font-family:monospace;white-space: pre;\" title=\"21\"><center>1921</center></td></tr>\n",
       "<tr><td style=\"font-family:monospace;white-space: pre;\" title=\"22\"><center>1922</center></td></tr>\n",
       "<tr><td style=\"font-family:monospace;white-space: pre;\" title=\"23\"><center>1923</center></td></tr>\n",
       "<tr><td style=\"font-family:monospace;white-space: pre;\" title=\"24\"><center>1924</center></td></tr>\n",
       "<tr><td style=\"font-family:monospace;white-space: pre;\" title=\"25\"><center>1925</center></td></tr>\n",
       "<tr><td style=\"font-family:monospace;white-space: pre;\" title=\"26\"><center>1926</center></td></tr>\n",
       "<tr><td style=\"font-family:monospace;white-space: pre;\" title=\"27\"><center>1927</center></td></tr>\n",
       "<tr><td style=\"font-family:monospace;white-space: pre;\" title=\"28\"><center>1928</center></td></tr>\n",
       "<tr><td style=\"font-family:monospace;white-space: pre;\" title=\"29\"><center>1929</center></td></tr>\n",
       "<tr><td style=\"font-family:monospace;white-space: pre;\" title=\"30\"><center>1930</center></td></tr>\n",
       "<tr><td style=\"font-family:monospace;white-space: pre;\" title=\"31\"><center>1931</center></td></tr>\n",
       "<tr><td style=\"font-family:monospace;white-space: pre;\" title=\"32\"><center>1932</center></td></tr>\n",
       "<tr><td style=\"font-family:monospace;white-space: pre;\" title=\"33\"><center>1933</center></td></tr>\n",
       "<tr><td style=\"font-family:monospace;white-space: pre;\" title=\"34\"><center>1934</center></td></tr>\n",
       "<tr><td style=\"font-family:monospace;white-space: pre;\" title=\"35\"><center>1935</center></td></tr>\n",
       "<tr><td style=\"font-family:monospace;white-space: pre;\" title=\"36\"><center>1936</center></td></tr>\n",
       "<tr><td style=\"font-family:monospace;white-space: pre;\" title=\"37\"><center>1937</center></td></tr>\n",
       "<tr><td style=\"font-family:monospace;white-space: pre;\" title=\"38\"><center>1938</center></td></tr>\n",
       "<tr><td style=\"font-family:monospace;white-space: pre;\" title=\"39\"><center>1939</center></td></tr>\n",
       "<tr><td style=\"font-family:monospace;white-space: pre;\" title=\"40\"><center>1940</center></td></tr>\n",
       "<tr><td style=\"font-family:monospace;white-space: pre;\" title=\"41\"><center>1941</center></td></tr>\n",
       "<tr><td style=\"font-family:monospace;white-space: pre;\" title=\"42\"><center>1942</center></td></tr>\n",
       "<tr><td style=\"font-family:monospace;white-space: pre;\" title=\"43\"><center>1943</center></td></tr>\n",
       "<tr><td style=\"font-family:monospace;white-space: pre;\" title=\"44\"><center>1944</center></td></tr>\n",
       "<tr><td style=\"font-family:monospace;white-space: pre;\" title=\"45\"><center>1945</center></td></tr>\n",
       "<tr><td style=\"font-family:monospace;white-space: pre;\" title=\"46\"><center>1946</center></td></tr>\n",
       "<tr><td style=\"font-family:monospace;white-space: pre;\" title=\"47\"><center>1947</center></td></tr>\n",
       "<tr><td style=\"font-family:monospace;white-space: pre;\" title=\"48\"><center>1948</center></td></tr>\n",
       "<tr><td style=\"font-family:monospace;white-space: pre;\" title=\"49\"><center>1949</center></td></tr>\n",
       "<tr><td style=\"font-family:monospace;white-space: pre;\" title=\"50\"><center>1950</center></td></tr>\n",
       "<tr><td style=\"font-family:monospace;white-space: pre;\" title=\"51\"><center>1951</center></td></tr>\n",
       "<tr><td style=\"font-family:monospace;white-space: pre;\" title=\"52\"><center>1952</center></td></tr>\n",
       "<tr><td style=\"font-family:monospace;white-space: pre;\" title=\"53\"><center>1953</center></td></tr>\n",
       "<tr><td style=\"font-family:monospace;white-space: pre;\" title=\"54\"><center>1954</center></td></tr>\n",
       "<tr><td style=\"font-family:monospace;white-space: pre;\" title=\"55\"><center>1955</center></td></tr>\n",
       "<tr><td style=\"font-family:monospace;white-space: pre;\" title=\"56\"><center>1956</center></td></tr>\n",
       "<tr><td style=\"font-family:monospace;white-space: pre;\" title=\"57\"><center>1957</center></td></tr>\n",
       "<tr><td style=\"font-family:monospace;white-space: pre;\" title=\"58\"><center>1958</center></td></tr>\n",
       "<tr><td style=\"font-family:monospace;white-space: pre;\" title=\"59\"><center>1959</center></td></tr>\n",
       "<tr><td style=\"font-family:monospace;white-space: pre;\" title=\"60\"><center>1960</center></td></tr>\n",
       "<tr><td style=\"font-family:monospace;white-space: pre;\" title=\"61\"><center>1961</center></td></tr>\n",
       "<tr><td style=\"font-family:monospace;white-space: pre;\" title=\"62\"><center>1962</center></td></tr>\n",
       "<tr><td style=\"font-family:monospace;white-space: pre;\" title=\"63\"><center>1963</center></td></tr>\n",
       "<tr><td style=\"font-family:monospace;white-space: pre;\" title=\"64\"><center>1964</center></td></tr>\n",
       "<tr><td style=\"font-family:monospace;white-space: pre;\" title=\"65\"><center>1965</center></td></tr>\n",
       "<tr><td style=\"font-family:monospace;white-space: pre;\" title=\"66\"><center>1966</center></td></tr>\n",
       "<tr><td style=\"font-family:monospace;white-space: pre;\" title=\"67\"><center>1967</center></td></tr>\n",
       "<tr><td style=\"font-family:monospace;white-space: pre;\" title=\"68\"><center>1968</center></td></tr>\n",
       "<tr><td style=\"font-family:monospace;white-space: pre;\" title=\"69\"><center>1969</center></td></tr>\n",
       "<tr><td style=\"font-family:monospace;white-space: pre;\" title=\"70\"><center>1970</center></td></tr>\n",
       "<tr><td style=\"font-family:monospace;white-space: pre;\" title=\"71\"><center>1971</center></td></tr>\n",
       "<tr><td style=\"font-family:monospace;white-space: pre;\" title=\"72\"><center>1972</center></td></tr>\n",
       "<tr><td style=\"font-family:monospace;white-space: pre;\" title=\"73\"><center>1973</center></td></tr>\n",
       "<tr><td style=\"font-family:monospace;white-space: pre;\" title=\"74\"><center>1974</center></td></tr>\n",
       "<tr><td style=\"font-family:monospace;white-space: pre;\" title=\"75\"><center>1975</center></td></tr>\n",
       "<tr><td style=\"font-family:monospace;white-space: pre;\" title=\"76\"><center>1976</center></td></tr>\n",
       "<tr><td style=\"font-family:monospace;white-space: pre;\" title=\"77\"><center>1977</center></td></tr>\n",
       "<tr><td style=\"font-family:monospace;white-space: pre;\" title=\"78\"><center>1978</center></td></tr>\n",
       "<tr><td style=\"font-family:monospace;white-space: pre;\" title=\"79\"><center>1979</center></td></tr>\n",
       "<tr><td style=\"font-family:monospace;white-space: pre;\" title=\"80\"><center>1980</center></td></tr>\n",
       "<tr><td style=\"font-family:monospace;white-space: pre;\" title=\"81\"><center>1981</center></td></tr>\n",
       "<tr><td style=\"font-family:monospace;white-space: pre;\" title=\"82\"><center>1982</center></td></tr>\n",
       "<tr><td style=\"font-family:monospace;white-space: pre;\" title=\"83\"><center>1983</center></td></tr>\n",
       "<tr><td style=\"font-family:monospace;white-space: pre;\" title=\"84\"><center>1984</center></td></tr>\n",
       "<tr><td style=\"font-family:monospace;white-space: pre;\" title=\"85\"><center>1985</center></td></tr>\n",
       "<tr><td style=\"font-family:monospace;white-space: pre;\" title=\"86\"><center>1986</center></td></tr>\n",
       "<tr><td style=\"font-family:monospace;white-space: pre;\" title=\"87\"><center>1987</center></td></tr>\n",
       "<tr><td style=\"font-family:monospace;white-space: pre;\" title=\"88\"><center>1988</center></td></tr>\n",
       "<tr><td style=\"font-family:monospace;white-space: pre;\" title=\"89\"><center>1989</center></td></tr>\n",
       "<tr><td style=\"font-family:monospace;white-space: pre;\" title=\"90\"><center>1990</center></td></tr>\n",
       "<tr><td style=\"font-family:monospace;white-space: pre;\" title=\"91\"><center>1991</center></td></tr>\n",
       "<tr><td style=\"font-family:monospace;white-space: pre;\" title=\"92\"><center>1992</center></td></tr>\n",
       "<tr><td style=\"font-family:monospace;white-space: pre;\" title=\"93\"><center>1993</center></td></tr>\n",
       "<tr><td style=\"font-family:monospace;white-space: pre;\" title=\"94\"><center>1994</center></td></tr>\n",
       "<tr><td style=\"font-family:monospace;white-space: pre;\" title=\"95\"><center>1995</center></td></tr>\n",
       "<tr><td style=\"font-family:monospace;white-space: pre;\" title=\"96\"><center>1996</center></td></tr>\n",
       "<tr><td style=\"font-family:monospace;white-space: pre;\" title=\"97\"><center>1997</center></td></tr>\n",
       "<tr><td style=\"font-family:monospace;white-space: pre;\" title=\"98\"><center>1998</center></td></tr>\n",
       "<tr><td style=\"font-family:monospace;white-space: pre;\" title=\"99\"><center>1999</center></td></tr>\n",
       "<tr><td style=\"font-family:monospace;white-space: pre;\" title=\"100\"><center>2000</center></td></tr>\n",
       "<tr><td style=\"font-family:monospace;white-space: pre;\" title=\"101\"><center>2001</center></td></tr>\n",
       "<tr><td style=\"font-family:monospace;white-space: pre;\" title=\"102\"><center>2002</center></td></tr>\n",
       "<tr><td style=\"font-family:monospace;white-space: pre;\" title=\"103\"><center>2003</center></td></tr>\n",
       "<tr><td style=\"font-family:monospace;white-space: pre;\" title=\"104\"><center>2004</center></td></tr>\n",
       "<tr><td style=\"font-family:monospace;white-space: pre;\" title=\"105\"><center>2005</center></td></tr>\n",
       "<tr><td style=\"font-family:monospace;white-space: pre;\" title=\"106\"><center>2006</center></td></tr>\n",
       "<tr><td style=\"font-family:monospace;white-space: pre;\" title=\"107\"><center>2007</center></td></tr>\n",
       "<tr><td style=\"font-family:monospace;white-space: pre;\" title=\"108\"><center>2008</center></td></tr>\n",
       "<tr><td style=\"font-family:monospace;white-space: pre;\" title=\"109\"><center>2009</center></td></tr>\n",
       "<tr><td style=\"font-family:monospace;white-space: pre;\" title=\"110\"><center>2010</center></td></tr>\n",
       "<tr><td style=\"font-family:monospace;white-space: pre;\" title=\"111\"><center>2011</center></td></tr>\n",
       "<tr><td style=\"font-family:monospace;white-space: pre;\" title=\"112\"><center>2012</center></td></tr>\n",
       "<tr><td style=\"font-family:monospace;white-space: pre;\" title=\"113\"><center>2013</center></td></tr>\n",
       "<tr><td style=\"font-family:monospace;white-space: pre;\" title=\"114\"><center>2014</center></td></tr>\n",
       "<tr><td style=\"font-family:monospace;white-space: pre;\" title=\"115\"><center>2015</center></td></tr>\n",
       "<tr><td style=\"font-family:monospace;white-space: pre;\" title=\"116\"><center>2016</center></td></tr>\n",
       "<tr><td style=\"font-family:monospace;white-space: pre;\" title=\"117\"><center>2017</center></td></tr>\n",
       "<tr><td style=\"font-family:monospace;white-space: pre;\" title=\"118\"><center>2018</center></td></tr>\n",
       "<tr><td style=\"font-family:monospace;white-space: pre;\" title=\"119\"><center>2019</center></td></tr>\n",
       "<tr><td style=\"font-family:monospace;white-space: pre;\" title=\"120\"><center>2020</center></td></tr>\n",
       "<tr><td style=\"font-family:monospace;white-space: pre;\" title=\"121\"><center>2021</center></td></tr>\n",
       "</table>"
      ],
      "text/plain": [
       "array([1900, 1901, 1902, 1903, 1904, 1905, 1906, 1907, 1908, 1909, 1910,\n",
       "       1911, 1912, 1913, 1914, 1915, 1916, 1917, 1918, 1919, 1920, 1921,\n",
       "       1922, 1923, 1924, 1925, 1926, 1927, 1928, 1929, 1930, 1931, 1932,\n",
       "       1933, 1934, 1935, 1936, 1937, 1938, 1939, 1940, 1941, 1942, 1943,\n",
       "       1944, 1945, 1946, 1947, 1948, 1949, 1950, 1951, 1952, 1953, 1954,\n",
       "       1955, 1956, 1957, 1958, 1959, 1960, 1961, 1962, 1963, 1964, 1965,\n",
       "       1966, 1967, 1968, 1969, 1970, 1971, 1972, 1973, 1974, 1975, 1976,\n",
       "       1977, 1978, 1979, 1980, 1981, 1982, 1983, 1984, 1985, 1986, 1987,\n",
       "       1988, 1989, 1990, 1991, 1992, 1993, 1994, 1995, 1996, 1997, 1998,\n",
       "       1999, 2000, 2001, 2002, 2003, 2004, 2005, 2006, 2007, 2008, 2009,\n",
       "       2010, 2011, 2012, 2013, 2014, 2015, 2016, 2017, 2018, 2019, 2020,\n",
       "       2021])"
      ]
     },
     "execution_count": 123,
     "metadata": {},
     "output_type": "execute_result"
    }
   ],
   "source": [
    "# 5\n",
    "array = np.arange(1900,2022)\n",
    "array"
   ]
  },
  {
   "cell_type": "code",
   "execution_count": 124,
   "metadata": {},
   "outputs": [
    {
     "name": "stdout",
     "output_type": "stream",
     "text": [
      "[ 0  2  4  6  8 10 12 14 16 18 20 22 24 26 28 30 32 34 36 38 40 42 44 46\n",
      " 48 50 52 54 56 58 60 62 64 66 68 70 72 74 76 78 80 82 84 86 88 90 92 94\n",
      " 96 98]\n"
     ]
    }
   ],
   "source": [
    "# 6\n",
    "array = np.arange(0,100,2)\n",
    "print(array)"
   ]
  },
  {
   "cell_type": "code",
   "execution_count": 125,
   "metadata": {},
   "outputs": [
    {
     "data": {
      "text/html": [
       "<table style='border-style:solid;border-width:1px;'>\n",
       "<tr><td style=\"font-family:monospace;white-space: pre;\" title=\"0\"><center>1952</center></td></tr>\n",
       "<tr><td style=\"font-family:monospace;white-space: pre;\" title=\"1\"><center>1956</center></td></tr>\n",
       "<tr><td style=\"font-family:monospace;white-space: pre;\" title=\"2\"><center>1960</center></td></tr>\n",
       "<tr><td style=\"font-family:monospace;white-space: pre;\" title=\"3\"><center>1964</center></td></tr>\n",
       "<tr><td style=\"font-family:monospace;white-space: pre;\" title=\"4\"><center>1968</center></td></tr>\n",
       "<tr><td style=\"font-family:monospace;white-space: pre;\" title=\"5\"><center>1972</center></td></tr>\n",
       "<tr><td style=\"font-family:monospace;white-space: pre;\" title=\"6\"><center>1976</center></td></tr>\n",
       "<tr><td style=\"font-family:monospace;white-space: pre;\" title=\"7\"><center>1980</center></td></tr>\n",
       "<tr><td style=\"font-family:monospace;white-space: pre;\" title=\"8\"><center>1984</center></td></tr>\n",
       "<tr><td style=\"font-family:monospace;white-space: pre;\" title=\"9\"><center>1988</center></td></tr>\n",
       "<tr><td style=\"font-family:monospace;white-space: pre;\" title=\"10\"><center>1992</center></td></tr>\n",
       "<tr><td style=\"font-family:monospace;white-space: pre;\" title=\"11\"><center>1996</center></td></tr>\n",
       "<tr><td style=\"font-family:monospace;white-space: pre;\" title=\"12\"><center>2000</center></td></tr>\n",
       "<tr><td style=\"font-family:monospace;white-space: pre;\" title=\"13\"><center>2004</center></td></tr>\n",
       "<tr><td style=\"font-family:monospace;white-space: pre;\" title=\"14\"><center>2008</center></td></tr>\n",
       "<tr><td style=\"font-family:monospace;white-space: pre;\" title=\"15\"><center>2012</center></td></tr>\n",
       "<tr><td style=\"font-family:monospace;white-space: pre;\" title=\"16\"><center>2016</center></td></tr>\n",
       "<tr><td style=\"font-family:monospace;white-space: pre;\" title=\"17\"><center>2020</center></td></tr>\n",
       "</table>"
      ],
      "text/plain": [
       "array([1952, 1956, 1960, 1964, 1968, 1972, 1976, 1980, 1984, 1988, 1992,\n",
       "       1996, 2000, 2004, 2008, 2012, 2016, 2020])"
      ]
     },
     "execution_count": 125,
     "metadata": {},
     "output_type": "execute_result"
    }
   ],
   "source": [
    "# 7\n",
    "array = np.arange(1950,2021)\n",
    "filtered = array[array % 4 == 0]\n",
    "filtered"
   ]
  },
  {
   "attachments": {},
   "cell_type": "markdown",
   "metadata": {},
   "source": [
    "work with NumPy little bit easier"
   ]
  },
  {
   "cell_type": "code",
   "execution_count": 126,
   "metadata": {},
   "outputs": [],
   "source": [
    "%reload_ext numpy_html"
   ]
  },
  {
   "cell_type": "code",
   "execution_count": 127,
   "metadata": {},
   "outputs": [
    {
     "data": {
      "text/html": [
       "<style>\n",
       "table {margin-top: 16pt;}\n",
       "td {font-family: Arial, Helvetica, sans-serif !important; font-weight: 600; white-space: normal !important;}\n",
       "tr:nth-child(even) {background: #b0d9eb !important; color: black}\n",
       "tr:nth-child(odd) {background: #8fb1bf !important; color: black}\n",
       "</style>\n"
      ],
      "text/plain": [
       "<IPython.core.display.HTML object>"
      ]
     },
     "metadata": {},
     "output_type": "display_data"
    }
   ],
   "source": [
    "%%html\n",
    "<style>\n",
    "table {margin-top: 16pt;}\n",
    "td {font-family: Arial, Helvetica, sans-serif !important; font-weight: 600; white-space: normal !important;}\n",
    "tr:nth-child(even) {background: #b0d9eb !important; color: black}\n",
    "tr:nth-child(odd) {background: #8fb1bf !important; color: black}\n",
    "</style>"
   ]
  },
  {
   "cell_type": "code",
   "execution_count": 128,
   "metadata": {},
   "outputs": [
    {
     "data": {
      "text/html": [
       "<table style='border-style:solid;border-width:1px;'>\n",
       "<tr>\n",
       "<td style=\"font-family:monospace;white-space: pre;\" title=\"(0, 0)\"><center>1 </center></td>\n",
       "<td style=\"font-family:monospace;white-space: pre;\" title=\"(0, 1)\"><center>2 </center></td>\n",
       "<td style=\"font-family:monospace;white-space: pre;\" title=\"(0, 2)\"><center>3 </center></td>\n",
       "<td style=\"font-family:monospace;white-space: pre;\" title=\"(0, 3)\"><center>4 </center></td>\n",
       "<td style=\"font-family:monospace;white-space: pre;\" title=\"(0, 4)\"><center>5 </center></td>\n",
       "<td style=\"font-family:monospace;white-space: pre;\" title=\"(0, 5)\"><center>6 </center></td>\n",
       "<td style=\"font-family:monospace;white-space: pre;\" title=\"(0, 6)\"><center>7 </center></td>\n",
       "</tr>\n",
       "<tr>\n",
       "<td style=\"font-family:monospace;white-space: pre;\" title=\"(1, 0)\"><center>8 </center></td>\n",
       "<td style=\"font-family:monospace;white-space: pre;\" title=\"(1, 1)\"><center>9 </center></td>\n",
       "<td style=\"font-family:monospace;white-space: pre;\" title=\"(1, 2)\"><center>10</center></td>\n",
       "<td style=\"font-family:monospace;white-space: pre;\" title=\"(1, 3)\"><center>11</center></td>\n",
       "<td style=\"font-family:monospace;white-space: pre;\" title=\"(1, 4)\"><center>12</center></td>\n",
       "<td style=\"font-family:monospace;white-space: pre;\" title=\"(1, 5)\"><center>13</center></td>\n",
       "<td style=\"font-family:monospace;white-space: pre;\" title=\"(1, 6)\"><center>14</center></td>\n",
       "</tr>\n",
       "<tr>\n",
       "<td style=\"font-family:monospace;white-space: pre;\" title=\"(2, 0)\"><center>15</center></td>\n",
       "<td style=\"font-family:monospace;white-space: pre;\" title=\"(2, 1)\"><center>16</center></td>\n",
       "<td style=\"font-family:monospace;white-space: pre;\" title=\"(2, 2)\"><center>17</center></td>\n",
       "<td style=\"font-family:monospace;white-space: pre;\" title=\"(2, 3)\"><center>18</center></td>\n",
       "<td style=\"font-family:monospace;white-space: pre;\" title=\"(2, 4)\"><center>19</center></td>\n",
       "<td style=\"font-family:monospace;white-space: pre;\" title=\"(2, 5)\"><center>20</center></td>\n",
       "<td style=\"font-family:monospace;white-space: pre;\" title=\"(2, 6)\"><center>21</center></td>\n",
       "</tr>\n",
       "<tr>\n",
       "<td style=\"font-family:monospace;white-space: pre;\" title=\"(3, 0)\"><center>22</center></td>\n",
       "<td style=\"font-family:monospace;white-space: pre;\" title=\"(3, 1)\"><center>23</center></td>\n",
       "<td style=\"font-family:monospace;white-space: pre;\" title=\"(3, 2)\"><center>24</center></td>\n",
       "<td style=\"font-family:monospace;white-space: pre;\" title=\"(3, 3)\"><center>25</center></td>\n",
       "<td style=\"font-family:monospace;white-space: pre;\" title=\"(3, 4)\"><center>26</center></td>\n",
       "<td style=\"font-family:monospace;white-space: pre;\" title=\"(3, 5)\"><center>27</center></td>\n",
       "<td style=\"font-family:monospace;white-space: pre;\" title=\"(3, 6)\"><center>28</center></td>\n",
       "</tr>\n",
       "<tr>\n",
       "<td style=\"font-family:monospace;white-space: pre;\" title=\"(4, 0)\"><center>29</center></td>\n",
       "<td style=\"font-family:monospace;white-space: pre;\" title=\"(4, 1)\"><center>30</center></td>\n",
       "<td style=\"font-family:monospace;white-space: pre;\" title=\"(4, 2)\"><center>31</center></td>\n",
       "<td style=\"font-family:monospace;white-space: pre;\" title=\"(4, 3)\"><center>32</center></td>\n",
       "<td style=\"font-family:monospace;white-space: pre;\" title=\"(4, 4)\"><center>33</center></td>\n",
       "<td style=\"font-family:monospace;white-space: pre;\" title=\"(4, 5)\"><center>34</center></td>\n",
       "<td style=\"font-family:monospace;white-space: pre;\" title=\"(4, 6)\"><center>35</center></td>\n",
       "</tr>\n",
       "<tr>\n",
       "<td style=\"font-family:monospace;white-space: pre;\" title=\"(5, 0)\"><center>36</center></td>\n",
       "<td style=\"font-family:monospace;white-space: pre;\" title=\"(5, 1)\"><center>37</center></td>\n",
       "<td style=\"font-family:monospace;white-space: pre;\" title=\"(5, 2)\"><center>38</center></td>\n",
       "<td style=\"font-family:monospace;white-space: pre;\" title=\"(5, 3)\"><center>39</center></td>\n",
       "<td style=\"font-family:monospace;white-space: pre;\" title=\"(5, 4)\"><center>40</center></td>\n",
       "<td style=\"font-family:monospace;white-space: pre;\" title=\"(5, 5)\"><center>41</center></td>\n",
       "<td style=\"font-family:monospace;white-space: pre;\" title=\"(5, 6)\"><center>42</center></td>\n",
       "</tr>\n",
       "<tr>\n",
       "<td style=\"font-family:monospace;white-space: pre;\" title=\"(6, 0)\"><center>43</center></td>\n",
       "<td style=\"font-family:monospace;white-space: pre;\" title=\"(6, 1)\"><center>44</center></td>\n",
       "<td style=\"font-family:monospace;white-space: pre;\" title=\"(6, 2)\"><center>45</center></td>\n",
       "<td style=\"font-family:monospace;white-space: pre;\" title=\"(6, 3)\"><center>46</center></td>\n",
       "<td style=\"font-family:monospace;white-space: pre;\" title=\"(6, 4)\"><center>47</center></td>\n",
       "<td style=\"font-family:monospace;white-space: pre;\" title=\"(6, 5)\"><center>48</center></td>\n",
       "<td style=\"font-family:monospace;white-space: pre;\" title=\"(6, 6)\"><center>49</center></td>\n",
       "</tr>\n",
       "</table>"
      ],
      "text/plain": [
       "array([[ 1,  2,  3,  4,  5,  6,  7],\n",
       "       [ 8,  9, 10, 11, 12, 13, 14],\n",
       "       [15, 16, 17, 18, 19, 20, 21],\n",
       "       [22, 23, 24, 25, 26, 27, 28],\n",
       "       [29, 30, 31, 32, 33, 34, 35],\n",
       "       [36, 37, 38, 39, 40, 41, 42],\n",
       "       [43, 44, 45, 46, 47, 48, 49]])"
      ]
     },
     "execution_count": 128,
     "metadata": {},
     "output_type": "execute_result"
    }
   ],
   "source": [
    "# ex_3\n",
    "# 1\n",
    "data = np.arange(1, 50).reshape(7, 7)\n",
    "data"
   ]
  },
  {
   "cell_type": "code",
   "execution_count": 129,
   "metadata": {},
   "outputs": [
    {
     "data": {
      "text/plain": [
       "[[1, 2, 3, 4, 5, 6, 7],\n",
       " [8, 9, 10, 11, 12, 13, 14],\n",
       " [15, 16, 17, 18, 19, 20, 21],\n",
       " [22, 23, 24, 25, 26, 27, 28],\n",
       " [29, 30, 31, 32, 33, 34, 35],\n",
       " [36, 37, 38, 39, 40, 41, 42],\n",
       " [43, 44, 45, 46, 47, 48, 49]]"
      ]
     },
     "execution_count": 129,
     "metadata": {},
     "output_type": "execute_result"
    }
   ],
   "source": [
    "# 1 extra\n",
    "A = [[1, 2, 3, 4, 5, 6, 7], \n",
    "    [8, 9, 10, 11, 12, 13, 14],\n",
    "    [15, 16, 17, 18, 19, 20, 21],\n",
    "    [22, 23, 24, 25, 26, 27, 28],\n",
    "    [29, 30, 31, 32, 33, 34, 35],\n",
    "    [36, 37, 38, 39, 40, 41, 42],\n",
    "    [43, 44, 45, 46, 47, 48, 49]]\n",
    "A"
   ]
  },
  {
   "cell_type": "code",
   "execution_count": 130,
   "metadata": {},
   "outputs": [
    {
     "data": {
      "text/html": [
       "<table style='border-style:solid;border-width:1px;'>\n",
       "<tr>\n",
       "<td style=\"font-family:monospace;white-space: pre;\" title=\"(0, 0)\"><center>4</center></td>\n",
       "<td style=\"font-family:monospace;white-space: pre;\" title=\"(0, 1)\"><center>2</center></td>\n",
       "<td style=\"font-family:monospace;white-space: pre;\" title=\"(0, 2)\"><center>3</center></td>\n",
       "<td style=\"font-family:monospace;white-space: pre;\" title=\"(0, 3)\"><center>4</center></td>\n",
       "<td style=\"font-family:monospace;white-space: pre;\" title=\"(0, 4)\"><center>2</center></td>\n",
       "<td style=\"font-family:monospace;white-space: pre;\" title=\"(0, 5)\"><center>3</center></td>\n",
       "<td style=\"font-family:monospace;white-space: pre;\" title=\"(0, 6)\"><center>1</center></td>\n",
       "<td style=\"font-family:monospace;white-space: pre;\" title=\"(0, 7)\"><center>0</center></td>\n",
       "</tr>\n",
       "<tr>\n",
       "<td style=\"font-family:monospace;white-space: pre;\" title=\"(1, 0)\"><center>1</center></td>\n",
       "<td style=\"font-family:monospace;white-space: pre;\" title=\"(1, 1)\"><center>0</center></td>\n",
       "<td style=\"font-family:monospace;white-space: pre;\" title=\"(1, 2)\"><center>1</center></td>\n",
       "<td style=\"font-family:monospace;white-space: pre;\" title=\"(1, 3)\"><center>4</center></td>\n",
       "<td style=\"font-family:monospace;white-space: pre;\" title=\"(1, 4)\"><center>0</center></td>\n",
       "<td style=\"font-family:monospace;white-space: pre;\" title=\"(1, 5)\"><center>2</center></td>\n",
       "<td style=\"font-family:monospace;white-space: pre;\" title=\"(1, 6)\"><center>4</center></td>\n",
       "<td style=\"font-family:monospace;white-space: pre;\" title=\"(1, 7)\"><center>3</center></td>\n",
       "</tr>\n",
       "<tr>\n",
       "<td style=\"font-family:monospace;white-space: pre;\" title=\"(2, 0)\"><center>3</center></td>\n",
       "<td style=\"font-family:monospace;white-space: pre;\" title=\"(2, 1)\"><center>5</center></td>\n",
       "<td style=\"font-family:monospace;white-space: pre;\" title=\"(2, 2)\"><center>5</center></td>\n",
       "<td style=\"font-family:monospace;white-space: pre;\" title=\"(2, 3)\"><center>0</center></td>\n",
       "<td style=\"font-family:monospace;white-space: pre;\" title=\"(2, 4)\"><center>1</center></td>\n",
       "<td style=\"font-family:monospace;white-space: pre;\" title=\"(2, 5)\"><center>1</center></td>\n",
       "<td style=\"font-family:monospace;white-space: pre;\" title=\"(2, 6)\"><center>1</center></td>\n",
       "<td style=\"font-family:monospace;white-space: pre;\" title=\"(2, 7)\"><center>1</center></td>\n",
       "</tr>\n",
       "<tr>\n",
       "<td style=\"font-family:monospace;white-space: pre;\" title=\"(3, 0)\"><center>5</center></td>\n",
       "<td style=\"font-family:monospace;white-space: pre;\" title=\"(3, 1)\"><center>3</center></td>\n",
       "<td style=\"font-family:monospace;white-space: pre;\" title=\"(3, 2)\"><center>3</center></td>\n",
       "<td style=\"font-family:monospace;white-space: pre;\" title=\"(3, 3)\"><center>4</center></td>\n",
       "<td style=\"font-family:monospace;white-space: pre;\" title=\"(3, 4)\"><center>4</center></td>\n",
       "<td style=\"font-family:monospace;white-space: pre;\" title=\"(3, 5)\"><center>4</center></td>\n",
       "<td style=\"font-family:monospace;white-space: pre;\" title=\"(3, 6)\"><center>2</center></td>\n",
       "<td style=\"font-family:monospace;white-space: pre;\" title=\"(3, 7)\"><center>2</center></td>\n",
       "</tr>\n",
       "<tr>\n",
       "<td style=\"font-family:monospace;white-space: pre;\" title=\"(4, 0)\"><center>4</center></td>\n",
       "<td style=\"font-family:monospace;white-space: pre;\" title=\"(4, 1)\"><center>2</center></td>\n",
       "<td style=\"font-family:monospace;white-space: pre;\" title=\"(4, 2)\"><center>1</center></td>\n",
       "<td style=\"font-family:monospace;white-space: pre;\" title=\"(4, 3)\"><center>0</center></td>\n",
       "<td style=\"font-family:monospace;white-space: pre;\" title=\"(4, 4)\"><center>2</center></td>\n",
       "<td style=\"font-family:monospace;white-space: pre;\" title=\"(4, 5)\"><center>5</center></td>\n",
       "<td style=\"font-family:monospace;white-space: pre;\" title=\"(4, 6)\"><center>4</center></td>\n",
       "<td style=\"font-family:monospace;white-space: pre;\" title=\"(4, 7)\"><center>2</center></td>\n",
       "</tr>\n",
       "<tr>\n",
       "<td style=\"font-family:monospace;white-space: pre;\" title=\"(5, 0)\"><center>2</center></td>\n",
       "<td style=\"font-family:monospace;white-space: pre;\" title=\"(5, 1)\"><center>3</center></td>\n",
       "<td style=\"font-family:monospace;white-space: pre;\" title=\"(5, 2)\"><center>3</center></td>\n",
       "<td style=\"font-family:monospace;white-space: pre;\" title=\"(5, 3)\"><center>1</center></td>\n",
       "<td style=\"font-family:monospace;white-space: pre;\" title=\"(5, 4)\"><center>5</center></td>\n",
       "<td style=\"font-family:monospace;white-space: pre;\" title=\"(5, 5)\"><center>5</center></td>\n",
       "<td style=\"font-family:monospace;white-space: pre;\" title=\"(5, 6)\"><center>3</center></td>\n",
       "<td style=\"font-family:monospace;white-space: pre;\" title=\"(5, 7)\"><center>4</center></td>\n",
       "</tr>\n",
       "<tr>\n",
       "<td style=\"font-family:monospace;white-space: pre;\" title=\"(6, 0)\"><center>5</center></td>\n",
       "<td style=\"font-family:monospace;white-space: pre;\" title=\"(6, 1)\"><center>4</center></td>\n",
       "<td style=\"font-family:monospace;white-space: pre;\" title=\"(6, 2)\"><center>0</center></td>\n",
       "<td style=\"font-family:monospace;white-space: pre;\" title=\"(6, 3)\"><center>1</center></td>\n",
       "<td style=\"font-family:monospace;white-space: pre;\" title=\"(6, 4)\"><center>4</center></td>\n",
       "<td style=\"font-family:monospace;white-space: pre;\" title=\"(6, 5)\"><center>4</center></td>\n",
       "<td style=\"font-family:monospace;white-space: pre;\" title=\"(6, 6)\"><center>5</center></td>\n",
       "<td style=\"font-family:monospace;white-space: pre;\" title=\"(6, 7)\"><center>0</center></td>\n",
       "</tr>\n",
       "<tr>\n",
       "<td style=\"font-family:monospace;white-space: pre;\" title=\"(7, 0)\"><center>5</center></td>\n",
       "<td style=\"font-family:monospace;white-space: pre;\" title=\"(7, 1)\"><center>3</center></td>\n",
       "<td style=\"font-family:monospace;white-space: pre;\" title=\"(7, 2)\"><center>1</center></td>\n",
       "<td style=\"font-family:monospace;white-space: pre;\" title=\"(7, 3)\"><center>3</center></td>\n",
       "<td style=\"font-family:monospace;white-space: pre;\" title=\"(7, 4)\"><center>1</center></td>\n",
       "<td style=\"font-family:monospace;white-space: pre;\" title=\"(7, 5)\"><center>2</center></td>\n",
       "<td style=\"font-family:monospace;white-space: pre;\" title=\"(7, 6)\"><center>0</center></td>\n",
       "<td style=\"font-family:monospace;white-space: pre;\" title=\"(7, 7)\"><center>5</center></td>\n",
       "</tr>\n",
       "</table>"
      ],
      "text/plain": [
       "array([[4, 2, 3, 4, 2, 3, 1, 0],\n",
       "       [1, 0, 1, 4, 0, 2, 4, 3],\n",
       "       [3, 5, 5, 0, 1, 1, 1, 1],\n",
       "       [5, 3, 3, 4, 4, 4, 2, 2],\n",
       "       [4, 2, 1, 0, 2, 5, 4, 2],\n",
       "       [2, 3, 3, 1, 5, 5, 3, 4],\n",
       "       [5, 4, 0, 1, 4, 4, 5, 0],\n",
       "       [5, 3, 1, 3, 1, 2, 0, 5]])"
      ]
     },
     "execution_count": 130,
     "metadata": {},
     "output_type": "execute_result"
    }
   ],
   "source": [
    "# 2\n",
    "import numpy as np\n",
    "np.random.randint(0, 6, (8, 8))"
   ]
  },
  {
   "cell_type": "code",
   "execution_count": 131,
   "metadata": {},
   "outputs": [
    {
     "data": {
      "text/html": [
       "<table style='border-style:solid;border-width:1px;'>\n",
       "<tr>\n",
       "<td style=\"font-family:monospace;white-space: pre;\" title=\"(0, 0)\"><center>-1</center></td>\n",
       "<td style=\"font-family:monospace;white-space: pre;\" title=\"(0, 1)\"><center>-2</center></td>\n",
       "<td style=\"font-family:monospace;white-space: pre;\" title=\"(0, 2)\"><center>0 </center></td>\n",
       "<td style=\"font-family:monospace;white-space: pre;\" title=\"(0, 3)\"><center>3 </center></td>\n",
       "<td style=\"font-family:monospace;white-space: pre;\" title=\"(0, 4)\"><center>3 </center></td>\n",
       "<td style=\"font-family:monospace;white-space: pre;\" title=\"(0, 5)\"><center>3 </center></td>\n",
       "<td style=\"font-family:monospace;white-space: pre;\" title=\"(0, 6)\"><center>-1</center></td>\n",
       "<td style=\"font-family:monospace;white-space: pre;\" title=\"(0, 7)\"><center>-3</center></td>\n",
       "</tr>\n",
       "<tr>\n",
       "<td style=\"font-family:monospace;white-space: pre;\" title=\"(1, 0)\"><center>-3</center></td>\n",
       "<td style=\"font-family:monospace;white-space: pre;\" title=\"(1, 1)\"><center>2 </center></td>\n",
       "<td style=\"font-family:monospace;white-space: pre;\" title=\"(1, 2)\"><center>0 </center></td>\n",
       "<td style=\"font-family:monospace;white-space: pre;\" title=\"(1, 3)\"><center>2 </center></td>\n",
       "<td style=\"font-family:monospace;white-space: pre;\" title=\"(1, 4)\"><center>3 </center></td>\n",
       "<td style=\"font-family:monospace;white-space: pre;\" title=\"(1, 5)\"><center>-1</center></td>\n",
       "<td style=\"font-family:monospace;white-space: pre;\" title=\"(1, 6)\"><center>3 </center></td>\n",
       "<td style=\"font-family:monospace;white-space: pre;\" title=\"(1, 7)\"><center>-2</center></td>\n",
       "</tr>\n",
       "<tr>\n",
       "<td style=\"font-family:monospace;white-space: pre;\" title=\"(2, 0)\"><center>3 </center></td>\n",
       "<td style=\"font-family:monospace;white-space: pre;\" title=\"(2, 1)\"><center>-3</center></td>\n",
       "<td style=\"font-family:monospace;white-space: pre;\" title=\"(2, 2)\"><center>-3</center></td>\n",
       "<td style=\"font-family:monospace;white-space: pre;\" title=\"(2, 3)\"><center>-1</center></td>\n",
       "<td style=\"font-family:monospace;white-space: pre;\" title=\"(2, 4)\"><center>-3</center></td>\n",
       "<td style=\"font-family:monospace;white-space: pre;\" title=\"(2, 5)\"><center>-2</center></td>\n",
       "<td style=\"font-family:monospace;white-space: pre;\" title=\"(2, 6)\"><center>0 </center></td>\n",
       "<td style=\"font-family:monospace;white-space: pre;\" title=\"(2, 7)\"><center>0 </center></td>\n",
       "</tr>\n",
       "<tr>\n",
       "<td style=\"font-family:monospace;white-space: pre;\" title=\"(3, 0)\"><center>-2</center></td>\n",
       "<td style=\"font-family:monospace;white-space: pre;\" title=\"(3, 1)\"><center>3 </center></td>\n",
       "<td style=\"font-family:monospace;white-space: pre;\" title=\"(3, 2)\"><center>-2</center></td>\n",
       "<td style=\"font-family:monospace;white-space: pre;\" title=\"(3, 3)\"><center>-1</center></td>\n",
       "<td style=\"font-family:monospace;white-space: pre;\" title=\"(3, 4)\"><center>-1</center></td>\n",
       "<td style=\"font-family:monospace;white-space: pre;\" title=\"(3, 5)\"><center>2 </center></td>\n",
       "<td style=\"font-family:monospace;white-space: pre;\" title=\"(3, 6)\"><center>2 </center></td>\n",
       "<td style=\"font-family:monospace;white-space: pre;\" title=\"(3, 7)\"><center>-2</center></td>\n",
       "</tr>\n",
       "<tr>\n",
       "<td style=\"font-family:monospace;white-space: pre;\" title=\"(4, 0)\"><center>3 </center></td>\n",
       "<td style=\"font-family:monospace;white-space: pre;\" title=\"(4, 1)\"><center>3 </center></td>\n",
       "<td style=\"font-family:monospace;white-space: pre;\" title=\"(4, 2)\"><center>-1</center></td>\n",
       "<td style=\"font-family:monospace;white-space: pre;\" title=\"(4, 3)\"><center>-1</center></td>\n",
       "<td style=\"font-family:monospace;white-space: pre;\" title=\"(4, 4)\"><center>3 </center></td>\n",
       "<td style=\"font-family:monospace;white-space: pre;\" title=\"(4, 5)\"><center>-3</center></td>\n",
       "<td style=\"font-family:monospace;white-space: pre;\" title=\"(4, 6)\"><center>3 </center></td>\n",
       "<td style=\"font-family:monospace;white-space: pre;\" title=\"(4, 7)\"><center>-1</center></td>\n",
       "</tr>\n",
       "<tr>\n",
       "<td style=\"font-family:monospace;white-space: pre;\" title=\"(5, 0)\"><center>-2</center></td>\n",
       "<td style=\"font-family:monospace;white-space: pre;\" title=\"(5, 1)\"><center>2 </center></td>\n",
       "<td style=\"font-family:monospace;white-space: pre;\" title=\"(5, 2)\"><center>0 </center></td>\n",
       "<td style=\"font-family:monospace;white-space: pre;\" title=\"(5, 3)\"><center>0 </center></td>\n",
       "<td style=\"font-family:monospace;white-space: pre;\" title=\"(5, 4)\"><center>-3</center></td>\n",
       "<td style=\"font-family:monospace;white-space: pre;\" title=\"(5, 5)\"><center>1 </center></td>\n",
       "<td style=\"font-family:monospace;white-space: pre;\" title=\"(5, 6)\"><center>-3</center></td>\n",
       "<td style=\"font-family:monospace;white-space: pre;\" title=\"(5, 7)\"><center>3 </center></td>\n",
       "</tr>\n",
       "<tr>\n",
       "<td style=\"font-family:monospace;white-space: pre;\" title=\"(6, 0)\"><center>0 </center></td>\n",
       "<td style=\"font-family:monospace;white-space: pre;\" title=\"(6, 1)\"><center>1 </center></td>\n",
       "<td style=\"font-family:monospace;white-space: pre;\" title=\"(6, 2)\"><center>3 </center></td>\n",
       "<td style=\"font-family:monospace;white-space: pre;\" title=\"(6, 3)\"><center>-1</center></td>\n",
       "<td style=\"font-family:monospace;white-space: pre;\" title=\"(6, 4)\"><center>3 </center></td>\n",
       "<td style=\"font-family:monospace;white-space: pre;\" title=\"(6, 5)\"><center>1 </center></td>\n",
       "<td style=\"font-family:monospace;white-space: pre;\" title=\"(6, 6)\"><center>3 </center></td>\n",
       "<td style=\"font-family:monospace;white-space: pre;\" title=\"(6, 7)\"><center>1 </center></td>\n",
       "</tr>\n",
       "<tr>\n",
       "<td style=\"font-family:monospace;white-space: pre;\" title=\"(7, 0)\"><center>1 </center></td>\n",
       "<td style=\"font-family:monospace;white-space: pre;\" title=\"(7, 1)\"><center>2 </center></td>\n",
       "<td style=\"font-family:monospace;white-space: pre;\" title=\"(7, 2)\"><center>-2</center></td>\n",
       "<td style=\"font-family:monospace;white-space: pre;\" title=\"(7, 3)\"><center>3 </center></td>\n",
       "<td style=\"font-family:monospace;white-space: pre;\" title=\"(7, 4)\"><center>2 </center></td>\n",
       "<td style=\"font-family:monospace;white-space: pre;\" title=\"(7, 5)\"><center>0 </center></td>\n",
       "<td style=\"font-family:monospace;white-space: pre;\" title=\"(7, 6)\"><center>2 </center></td>\n",
       "<td style=\"font-family:monospace;white-space: pre;\" title=\"(7, 7)\"><center>-2</center></td>\n",
       "</tr>\n",
       "</table>"
      ],
      "text/plain": [
       "array([[-1, -2,  0,  3,  3,  3, -1, -3],\n",
       "       [-3,  2,  0,  2,  3, -1,  3, -2],\n",
       "       [ 3, -3, -3, -1, -3, -2,  0,  0],\n",
       "       [-2,  3, -2, -1, -1,  2,  2, -2],\n",
       "       [ 3,  3, -1, -1,  3, -3,  3, -1],\n",
       "       [-2,  2,  0,  0, -3,  1, -3,  3],\n",
       "       [ 0,  1,  3, -1,  3,  1,  3,  1],\n",
       "       [ 1,  2, -2,  3,  2,  0,  2, -2]])"
      ]
     },
     "execution_count": 131,
     "metadata": {},
     "output_type": "execute_result"
    }
   ],
   "source": [
    "# 3\n",
    "np.random.randint(-3, 4, (8, 8))"
   ]
  },
  {
   "cell_type": "code",
   "execution_count": 132,
   "metadata": {},
   "outputs": [
    {
     "name": "stdout",
     "output_type": "stream",
     "text": [
      "[1, 1, 0, 1, 0, 0, 0, 1, 0, 1]\n"
     ]
    }
   ],
   "source": [
    "# ex_4\n",
    "# 1\n",
    "import random\n",
    "randomlist = []\n",
    "for i in range(0,10):\n",
    "    n = random.randint(0,1)\n",
    "    randomlist.append(n)\n",
    "print(randomlist)"
   ]
  },
  {
   "cell_type": "code",
   "execution_count": 133,
   "metadata": {},
   "outputs": [
    {
     "data": {
      "text/html": [
       "<table style='border-style:solid;border-width:1px;'>\n",
       "<tr>\n",
       "<td style=\"font-family:monospace;white-space: pre;\" title=\"(0, 0)\"><center>5</center></td>\n",
       "<td style=\"font-family:monospace;white-space: pre;\" title=\"(0, 1)\"><center>3</center></td>\n",
       "<td style=\"font-family:monospace;white-space: pre;\" title=\"(0, 2)\"><center>1</center></td>\n",
       "<td style=\"font-family:monospace;white-space: pre;\" title=\"(0, 3)\"><center>5</center></td>\n",
       "<td style=\"font-family:monospace;white-space: pre;\" title=\"(0, 4)\"><center>4</center></td>\n",
       "<td style=\"font-family:monospace;white-space: pre;\" title=\"(0, 5)\"><center>0</center></td>\n",
       "<td style=\"font-family:monospace;white-space: pre;\" title=\"(0, 6)\"><center>2</center></td>\n",
       "<td style=\"font-family:monospace;white-space: pre;\" title=\"(0, 7)\"><center>1</center></td>\n",
       "</tr>\n",
       "<tr>\n",
       "<td style=\"font-family:monospace;white-space: pre;\" title=\"(1, 0)\"><center>5</center></td>\n",
       "<td style=\"font-family:monospace;white-space: pre;\" title=\"(1, 1)\"><center>4</center></td>\n",
       "<td style=\"font-family:monospace;white-space: pre;\" title=\"(1, 2)\"><center>1</center></td>\n",
       "<td style=\"font-family:monospace;white-space: pre;\" title=\"(1, 3)\"><center>2</center></td>\n",
       "<td style=\"font-family:monospace;white-space: pre;\" title=\"(1, 4)\"><center>5</center></td>\n",
       "<td style=\"font-family:monospace;white-space: pre;\" title=\"(1, 5)\"><center>5</center></td>\n",
       "<td style=\"font-family:monospace;white-space: pre;\" title=\"(1, 6)\"><center>3</center></td>\n",
       "<td style=\"font-family:monospace;white-space: pre;\" title=\"(1, 7)\"><center>0</center></td>\n",
       "</tr>\n",
       "<tr>\n",
       "<td style=\"font-family:monospace;white-space: pre;\" title=\"(2, 0)\"><center>5</center></td>\n",
       "<td style=\"font-family:monospace;white-space: pre;\" title=\"(2, 1)\"><center>2</center></td>\n",
       "<td style=\"font-family:monospace;white-space: pre;\" title=\"(2, 2)\"><center>2</center></td>\n",
       "<td style=\"font-family:monospace;white-space: pre;\" title=\"(2, 3)\"><center>5</center></td>\n",
       "<td style=\"font-family:monospace;white-space: pre;\" title=\"(2, 4)\"><center>2</center></td>\n",
       "<td style=\"font-family:monospace;white-space: pre;\" title=\"(2, 5)\"><center>0</center></td>\n",
       "<td style=\"font-family:monospace;white-space: pre;\" title=\"(2, 6)\"><center>5</center></td>\n",
       "<td style=\"font-family:monospace;white-space: pre;\" title=\"(2, 7)\"><center>4</center></td>\n",
       "</tr>\n",
       "<tr>\n",
       "<td style=\"font-family:monospace;white-space: pre;\" title=\"(3, 0)\"><center>1</center></td>\n",
       "<td style=\"font-family:monospace;white-space: pre;\" title=\"(3, 1)\"><center>5</center></td>\n",
       "<td style=\"font-family:monospace;white-space: pre;\" title=\"(3, 2)\"><center>2</center></td>\n",
       "<td style=\"font-family:monospace;white-space: pre;\" title=\"(3, 3)\"><center>2</center></td>\n",
       "<td style=\"font-family:monospace;white-space: pre;\" title=\"(3, 4)\"><center>0</center></td>\n",
       "<td style=\"font-family:monospace;white-space: pre;\" title=\"(3, 5)\"><center>2</center></td>\n",
       "<td style=\"font-family:monospace;white-space: pre;\" title=\"(3, 6)\"><center>1</center></td>\n",
       "<td style=\"font-family:monospace;white-space: pre;\" title=\"(3, 7)\"><center>2</center></td>\n",
       "</tr>\n",
       "<tr>\n",
       "<td style=\"font-family:monospace;white-space: pre;\" title=\"(4, 0)\"><center>4</center></td>\n",
       "<td style=\"font-family:monospace;white-space: pre;\" title=\"(4, 1)\"><center>4</center></td>\n",
       "<td style=\"font-family:monospace;white-space: pre;\" title=\"(4, 2)\"><center>4</center></td>\n",
       "<td style=\"font-family:monospace;white-space: pre;\" title=\"(4, 3)\"><center>4</center></td>\n",
       "<td style=\"font-family:monospace;white-space: pre;\" title=\"(4, 4)\"><center>3</center></td>\n",
       "<td style=\"font-family:monospace;white-space: pre;\" title=\"(4, 5)\"><center>2</center></td>\n",
       "<td style=\"font-family:monospace;white-space: pre;\" title=\"(4, 6)\"><center>1</center></td>\n",
       "<td style=\"font-family:monospace;white-space: pre;\" title=\"(4, 7)\"><center>3</center></td>\n",
       "</tr>\n",
       "<tr>\n",
       "<td style=\"font-family:monospace;white-space: pre;\" title=\"(5, 0)\"><center>4</center></td>\n",
       "<td style=\"font-family:monospace;white-space: pre;\" title=\"(5, 1)\"><center>4</center></td>\n",
       "<td style=\"font-family:monospace;white-space: pre;\" title=\"(5, 2)\"><center>3</center></td>\n",
       "<td style=\"font-family:monospace;white-space: pre;\" title=\"(5, 3)\"><center>5</center></td>\n",
       "<td style=\"font-family:monospace;white-space: pre;\" title=\"(5, 4)\"><center>3</center></td>\n",
       "<td style=\"font-family:monospace;white-space: pre;\" title=\"(5, 5)\"><center>4</center></td>\n",
       "<td style=\"font-family:monospace;white-space: pre;\" title=\"(5, 6)\"><center>2</center></td>\n",
       "<td style=\"font-family:monospace;white-space: pre;\" title=\"(5, 7)\"><center>5</center></td>\n",
       "</tr>\n",
       "<tr>\n",
       "<td style=\"font-family:monospace;white-space: pre;\" title=\"(6, 0)\"><center>2</center></td>\n",
       "<td style=\"font-family:monospace;white-space: pre;\" title=\"(6, 1)\"><center>3</center></td>\n",
       "<td style=\"font-family:monospace;white-space: pre;\" title=\"(6, 2)\"><center>0</center></td>\n",
       "<td style=\"font-family:monospace;white-space: pre;\" title=\"(6, 3)\"><center>5</center></td>\n",
       "<td style=\"font-family:monospace;white-space: pre;\" title=\"(6, 4)\"><center>1</center></td>\n",
       "<td style=\"font-family:monospace;white-space: pre;\" title=\"(6, 5)\"><center>5</center></td>\n",
       "<td style=\"font-family:monospace;white-space: pre;\" title=\"(6, 6)\"><center>0</center></td>\n",
       "<td style=\"font-family:monospace;white-space: pre;\" title=\"(6, 7)\"><center>5</center></td>\n",
       "</tr>\n",
       "<tr>\n",
       "<td style=\"font-family:monospace;white-space: pre;\" title=\"(7, 0)\"><center>5</center></td>\n",
       "<td style=\"font-family:monospace;white-space: pre;\" title=\"(7, 1)\"><center>0</center></td>\n",
       "<td style=\"font-family:monospace;white-space: pre;\" title=\"(7, 2)\"><center>5</center></td>\n",
       "<td style=\"font-family:monospace;white-space: pre;\" title=\"(7, 3)\"><center>1</center></td>\n",
       "<td style=\"font-family:monospace;white-space: pre;\" title=\"(7, 4)\"><center>1</center></td>\n",
       "<td style=\"font-family:monospace;white-space: pre;\" title=\"(7, 5)\"><center>0</center></td>\n",
       "<td style=\"font-family:monospace;white-space: pre;\" title=\"(7, 6)\"><center>2</center></td>\n",
       "<td style=\"font-family:monospace;white-space: pre;\" title=\"(7, 7)\"><center>2</center></td>\n",
       "</tr>\n",
       "</table>"
      ],
      "text/plain": [
       "array([[5, 3, 1, 5, 4, 0, 2, 1],\n",
       "       [5, 4, 1, 2, 5, 5, 3, 0],\n",
       "       [5, 2, 2, 5, 2, 0, 5, 4],\n",
       "       [1, 5, 2, 2, 0, 2, 1, 2],\n",
       "       [4, 4, 4, 4, 3, 2, 1, 3],\n",
       "       [4, 4, 3, 5, 3, 4, 2, 5],\n",
       "       [2, 3, 0, 5, 1, 5, 0, 5],\n",
       "       [5, 0, 5, 1, 1, 0, 2, 2]])"
      ]
     },
     "execution_count": 133,
     "metadata": {},
     "output_type": "execute_result"
    }
   ],
   "source": [
    "#2\n",
    "import numpy as np\n",
    "np.random.randint(0, 6, (8, 8))"
   ]
  },
  {
   "cell_type": "code",
   "execution_count": 134,
   "metadata": {},
   "outputs": [
    {
     "name": "stdout",
     "output_type": "stream",
     "text": [
      "[[1, 5, 3, 4, 1, 4, 0, 5, 0, 5], [3, 2, 0, 2, 4, 3, 2, 0, 4, 4], [2, 2, 5, 0, 1, 2, 2, 3, 2, 1], [1, 0, 3, 4, 5, 3, 3, 4, 5, 3], [3, 0, 0, 4, 3, 2, 4, 1, 1, 0], [3, 1, 5, 1, 2, 4, 2, 3, 3, 5], [0, 0, 0, 4, 4, 0, 3, 2, 2, 2], [3, 3, 0, 0, 2, 0, 2, 5, 4, 4], [0, 2, 3, 1, 1, 1, 4, 5, 3, 5], [0, 3, 1, 5, 0, 2, 3, 5, 5, 2]]\n"
     ]
    }
   ],
   "source": [
    "# 2 extra\n",
    "from random import randint\n",
    "A = [[randint(0, 5) for y in range(10)] for x in range(10)]\n",
    "print(A)"
   ]
  },
  {
   "cell_type": "code",
   "execution_count": 135,
   "metadata": {},
   "outputs": [
    {
     "data": {
      "text/html": [
       "<table style='border-style:solid;border-width:1px;'>\n",
       "<tr>\n",
       "<td style=\"font-family:monospace;white-space: pre;\" title=\"(0, 0)\"><center>14</center></td>\n",
       "<td style=\"font-family:monospace;white-space: pre;\" title=\"(0, 1)\"><center>46</center></td>\n",
       "<td style=\"font-family:monospace;white-space: pre;\" title=\"(0, 2)\"><center>0 </center></td>\n",
       "<td style=\"font-family:monospace;white-space: pre;\" title=\"(0, 3)\"><center>91</center></td>\n",
       "<td style=\"font-family:monospace;white-space: pre;\" title=\"(0, 4)\"><center>14</center></td>\n",
       "</tr>\n",
       "<tr>\n",
       "<td style=\"font-family:monospace;white-space: pre;\" title=\"(1, 0)\"><center>56</center></td>\n",
       "<td style=\"font-family:monospace;white-space: pre;\" title=\"(1, 1)\"><center>15</center></td>\n",
       "<td style=\"font-family:monospace;white-space: pre;\" title=\"(1, 2)\"><center>86</center></td>\n",
       "<td style=\"font-family:monospace;white-space: pre;\" title=\"(1, 3)\"><center>46</center></td>\n",
       "<td style=\"font-family:monospace;white-space: pre;\" title=\"(1, 4)\"><center>19</center></td>\n",
       "</tr>\n",
       "<tr>\n",
       "<td style=\"font-family:monospace;white-space: pre;\" title=\"(2, 0)\"><center>14</center></td>\n",
       "<td style=\"font-family:monospace;white-space: pre;\" title=\"(2, 1)\"><center>41</center></td>\n",
       "<td style=\"font-family:monospace;white-space: pre;\" title=\"(2, 2)\"><center>93</center></td>\n",
       "<td style=\"font-family:monospace;white-space: pre;\" title=\"(2, 3)\"><center>96</center></td>\n",
       "<td style=\"font-family:monospace;white-space: pre;\" title=\"(2, 4)\"><center>63</center></td>\n",
       "</tr>\n",
       "</table>"
      ],
      "text/plain": [
       "array([[14, 46,  0, 91, 14],\n",
       "       [56, 15, 86, 46, 19],\n",
       "       [14, 41, 93, 96, 63]])"
      ]
     },
     "execution_count": 135,
     "metadata": {},
     "output_type": "execute_result"
    }
   ],
   "source": [
    "# ex_5\n",
    "# 1\n",
    "import numpy as np\n",
    "np.random.randint(0, 98, (3, 5))\n",
    "\n"
   ]
  },
  {
   "cell_type": "code",
   "execution_count": 136,
   "metadata": {},
   "outputs": [
    {
     "data": {
      "text/html": [
       "<table style='border-style:solid;border-width:1px;'>\n",
       "<tr>\n",
       "<td style=\"font-family:monospace;white-space: pre;\" title=\"(0, 0)\"><center>128</center></td>\n",
       "<td style=\"font-family:monospace;white-space: pre;\" title=\"(0, 1)\"><center>129</center></td>\n",
       "<td style=\"font-family:monospace;white-space: pre;\" title=\"(0, 2)\"><center>130</center></td>\n",
       "<td style=\"font-family:monospace;white-space: pre;\" title=\"(0, 3)\"><center>131</center></td>\n",
       "<td style=\"font-family:monospace;white-space: pre;\" title=\"(0, 4)\"><center>132</center></td>\n",
       "<td style=\"font-family:monospace;white-space: pre;\" title=\"(0, 5)\"><center>133</center></td>\n",
       "<td style=\"font-family:monospace;white-space: pre;\" title=\"(0, 6)\"><center>134</center></td>\n",
       "<td style=\"font-family:monospace;white-space: pre;\" title=\"(0, 7)\"><center>135</center></td>\n",
       "<td style=\"font-family:monospace;white-space: pre;\" title=\"(0, 8)\"><center>136</center></td>\n",
       "<td style=\"font-family:monospace;white-space: pre;\" title=\"(0, 9)\"><center>137</center></td>\n",
       "<td style=\"font-family:monospace;white-space: pre;\" title=\"(0, 10)\"><center>138</center></td>\n",
       "<td style=\"font-family:monospace;white-space: pre;\" title=\"(0, 11)\"><center>139</center></td>\n",
       "<td style=\"font-family:monospace;white-space: pre;\" title=\"(0, 12)\"><center>140</center></td>\n",
       "<td style=\"font-family:monospace;white-space: pre;\" title=\"(0, 13)\"><center>141</center></td>\n",
       "<td style=\"font-family:monospace;white-space: pre;\" title=\"(0, 14)\"><center>142</center></td>\n",
       "<td style=\"font-family:monospace;white-space: pre;\" title=\"(0, 15)\"><center>143</center></td>\n",
       "</tr>\n",
       "<tr>\n",
       "<td style=\"font-family:monospace;white-space: pre;\" title=\"(1, 0)\"><center>144</center></td>\n",
       "<td style=\"font-family:monospace;white-space: pre;\" title=\"(1, 1)\"><center>145</center></td>\n",
       "<td style=\"font-family:monospace;white-space: pre;\" title=\"(1, 2)\"><center>146</center></td>\n",
       "<td style=\"font-family:monospace;white-space: pre;\" title=\"(1, 3)\"><center>147</center></td>\n",
       "<td style=\"font-family:monospace;white-space: pre;\" title=\"(1, 4)\"><center>148</center></td>\n",
       "<td style=\"font-family:monospace;white-space: pre;\" title=\"(1, 5)\"><center>149</center></td>\n",
       "<td style=\"font-family:monospace;white-space: pre;\" title=\"(1, 6)\"><center>150</center></td>\n",
       "<td style=\"font-family:monospace;white-space: pre;\" title=\"(1, 7)\"><center>151</center></td>\n",
       "<td style=\"font-family:monospace;white-space: pre;\" title=\"(1, 8)\"><center>152</center></td>\n",
       "<td style=\"font-family:monospace;white-space: pre;\" title=\"(1, 9)\"><center>153</center></td>\n",
       "<td style=\"font-family:monospace;white-space: pre;\" title=\"(1, 10)\"><center>154</center></td>\n",
       "<td style=\"font-family:monospace;white-space: pre;\" title=\"(1, 11)\"><center>155</center></td>\n",
       "<td style=\"font-family:monospace;white-space: pre;\" title=\"(1, 12)\"><center>156</center></td>\n",
       "<td style=\"font-family:monospace;white-space: pre;\" title=\"(1, 13)\"><center>157</center></td>\n",
       "<td style=\"font-family:monospace;white-space: pre;\" title=\"(1, 14)\"><center>158</center></td>\n",
       "<td style=\"font-family:monospace;white-space: pre;\" title=\"(1, 15)\"><center>159</center></td>\n",
       "</tr>\n",
       "<tr>\n",
       "<td style=\"font-family:monospace;white-space: pre;\" title=\"(2, 0)\"><center>160</center></td>\n",
       "<td style=\"font-family:monospace;white-space: pre;\" title=\"(2, 1)\"><center>161</center></td>\n",
       "<td style=\"font-family:monospace;white-space: pre;\" title=\"(2, 2)\"><center>162</center></td>\n",
       "<td style=\"font-family:monospace;white-space: pre;\" title=\"(2, 3)\"><center>163</center></td>\n",
       "<td style=\"font-family:monospace;white-space: pre;\" title=\"(2, 4)\"><center>164</center></td>\n",
       "<td style=\"font-family:monospace;white-space: pre;\" title=\"(2, 5)\"><center>165</center></td>\n",
       "<td style=\"font-family:monospace;white-space: pre;\" title=\"(2, 6)\"><center>166</center></td>\n",
       "<td style=\"font-family:monospace;white-space: pre;\" title=\"(2, 7)\"><center>167</center></td>\n",
       "<td style=\"font-family:monospace;white-space: pre;\" title=\"(2, 8)\"><center>168</center></td>\n",
       "<td style=\"font-family:monospace;white-space: pre;\" title=\"(2, 9)\"><center>169</center></td>\n",
       "<td style=\"font-family:monospace;white-space: pre;\" title=\"(2, 10)\"><center>170</center></td>\n",
       "<td style=\"font-family:monospace;white-space: pre;\" title=\"(2, 11)\"><center>171</center></td>\n",
       "<td style=\"font-family:monospace;white-space: pre;\" title=\"(2, 12)\"><center>172</center></td>\n",
       "<td style=\"font-family:monospace;white-space: pre;\" title=\"(2, 13)\"><center>173</center></td>\n",
       "<td style=\"font-family:monospace;white-space: pre;\" title=\"(2, 14)\"><center>174</center></td>\n",
       "<td style=\"font-family:monospace;white-space: pre;\" title=\"(2, 15)\"><center>175</center></td>\n",
       "</tr>\n",
       "<tr>\n",
       "<td style=\"font-family:monospace;white-space: pre;\" title=\"(3, 0)\"><center>176</center></td>\n",
       "<td style=\"font-family:monospace;white-space: pre;\" title=\"(3, 1)\"><center>177</center></td>\n",
       "<td style=\"font-family:monospace;white-space: pre;\" title=\"(3, 2)\"><center>178</center></td>\n",
       "<td style=\"font-family:monospace;white-space: pre;\" title=\"(3, 3)\"><center>179</center></td>\n",
       "<td style=\"font-family:monospace;white-space: pre;\" title=\"(3, 4)\"><center>180</center></td>\n",
       "<td style=\"font-family:monospace;white-space: pre;\" title=\"(3, 5)\"><center>181</center></td>\n",
       "<td style=\"font-family:monospace;white-space: pre;\" title=\"(3, 6)\"><center>182</center></td>\n",
       "<td style=\"font-family:monospace;white-space: pre;\" title=\"(3, 7)\"><center>183</center></td>\n",
       "<td style=\"font-family:monospace;white-space: pre;\" title=\"(3, 8)\"><center>184</center></td>\n",
       "<td style=\"font-family:monospace;white-space: pre;\" title=\"(3, 9)\"><center>185</center></td>\n",
       "<td style=\"font-family:monospace;white-space: pre;\" title=\"(3, 10)\"><center>186</center></td>\n",
       "<td style=\"font-family:monospace;white-space: pre;\" title=\"(3, 11)\"><center>187</center></td>\n",
       "<td style=\"font-family:monospace;white-space: pre;\" title=\"(3, 12)\"><center>188</center></td>\n",
       "<td style=\"font-family:monospace;white-space: pre;\" title=\"(3, 13)\"><center>189</center></td>\n",
       "<td style=\"font-family:monospace;white-space: pre;\" title=\"(3, 14)\"><center>190</center></td>\n",
       "<td style=\"font-family:monospace;white-space: pre;\" title=\"(3, 15)\"><center>191</center></td>\n",
       "</tr>\n",
       "<tr>\n",
       "<td style=\"font-family:monospace;white-space: pre;\" title=\"(4, 0)\"><center>192</center></td>\n",
       "<td style=\"font-family:monospace;white-space: pre;\" title=\"(4, 1)\"><center>193</center></td>\n",
       "<td style=\"font-family:monospace;white-space: pre;\" title=\"(4, 2)\"><center>194</center></td>\n",
       "<td style=\"font-family:monospace;white-space: pre;\" title=\"(4, 3)\"><center>195</center></td>\n",
       "<td style=\"font-family:monospace;white-space: pre;\" title=\"(4, 4)\"><center>196</center></td>\n",
       "<td style=\"font-family:monospace;white-space: pre;\" title=\"(4, 5)\"><center>197</center></td>\n",
       "<td style=\"font-family:monospace;white-space: pre;\" title=\"(4, 6)\"><center>198</center></td>\n",
       "<td style=\"font-family:monospace;white-space: pre;\" title=\"(4, 7)\"><center>199</center></td>\n",
       "<td style=\"font-family:monospace;white-space: pre;\" title=\"(4, 8)\"><center>200</center></td>\n",
       "<td style=\"font-family:monospace;white-space: pre;\" title=\"(4, 9)\"><center>201</center></td>\n",
       "<td style=\"font-family:monospace;white-space: pre;\" title=\"(4, 10)\"><center>202</center></td>\n",
       "<td style=\"font-family:monospace;white-space: pre;\" title=\"(4, 11)\"><center>203</center></td>\n",
       "<td style=\"font-family:monospace;white-space: pre;\" title=\"(4, 12)\"><center>204</center></td>\n",
       "<td style=\"font-family:monospace;white-space: pre;\" title=\"(4, 13)\"><center>205</center></td>\n",
       "<td style=\"font-family:monospace;white-space: pre;\" title=\"(4, 14)\"><center>206</center></td>\n",
       "<td style=\"font-family:monospace;white-space: pre;\" title=\"(4, 15)\"><center>207</center></td>\n",
       "</tr>\n",
       "<tr>\n",
       "<td style=\"font-family:monospace;white-space: pre;\" title=\"(5, 0)\"><center>208</center></td>\n",
       "<td style=\"font-family:monospace;white-space: pre;\" title=\"(5, 1)\"><center>209</center></td>\n",
       "<td style=\"font-family:monospace;white-space: pre;\" title=\"(5, 2)\"><center>210</center></td>\n",
       "<td style=\"font-family:monospace;white-space: pre;\" title=\"(5, 3)\"><center>211</center></td>\n",
       "<td style=\"font-family:monospace;white-space: pre;\" title=\"(5, 4)\"><center>212</center></td>\n",
       "<td style=\"font-family:monospace;white-space: pre;\" title=\"(5, 5)\"><center>213</center></td>\n",
       "<td style=\"font-family:monospace;white-space: pre;\" title=\"(5, 6)\"><center>214</center></td>\n",
       "<td style=\"font-family:monospace;white-space: pre;\" title=\"(5, 7)\"><center>215</center></td>\n",
       "<td style=\"font-family:monospace;white-space: pre;\" title=\"(5, 8)\"><center>216</center></td>\n",
       "<td style=\"font-family:monospace;white-space: pre;\" title=\"(5, 9)\"><center>217</center></td>\n",
       "<td style=\"font-family:monospace;white-space: pre;\" title=\"(5, 10)\"><center>218</center></td>\n",
       "<td style=\"font-family:monospace;white-space: pre;\" title=\"(5, 11)\"><center>219</center></td>\n",
       "<td style=\"font-family:monospace;white-space: pre;\" title=\"(5, 12)\"><center>220</center></td>\n",
       "<td style=\"font-family:monospace;white-space: pre;\" title=\"(5, 13)\"><center>221</center></td>\n",
       "<td style=\"font-family:monospace;white-space: pre;\" title=\"(5, 14)\"><center>222</center></td>\n",
       "<td style=\"font-family:monospace;white-space: pre;\" title=\"(5, 15)\"><center>223</center></td>\n",
       "</tr>\n",
       "<tr>\n",
       "<td style=\"font-family:monospace;white-space: pre;\" title=\"(6, 0)\"><center>224</center></td>\n",
       "<td style=\"font-family:monospace;white-space: pre;\" title=\"(6, 1)\"><center>225</center></td>\n",
       "<td style=\"font-family:monospace;white-space: pre;\" title=\"(6, 2)\"><center>226</center></td>\n",
       "<td style=\"font-family:monospace;white-space: pre;\" title=\"(6, 3)\"><center>227</center></td>\n",
       "<td style=\"font-family:monospace;white-space: pre;\" title=\"(6, 4)\"><center>228</center></td>\n",
       "<td style=\"font-family:monospace;white-space: pre;\" title=\"(6, 5)\"><center>229</center></td>\n",
       "<td style=\"font-family:monospace;white-space: pre;\" title=\"(6, 6)\"><center>230</center></td>\n",
       "<td style=\"font-family:monospace;white-space: pre;\" title=\"(6, 7)\"><center>231</center></td>\n",
       "<td style=\"font-family:monospace;white-space: pre;\" title=\"(6, 8)\"><center>232</center></td>\n",
       "<td style=\"font-family:monospace;white-space: pre;\" title=\"(6, 9)\"><center>233</center></td>\n",
       "<td style=\"font-family:monospace;white-space: pre;\" title=\"(6, 10)\"><center>234</center></td>\n",
       "<td style=\"font-family:monospace;white-space: pre;\" title=\"(6, 11)\"><center>235</center></td>\n",
       "<td style=\"font-family:monospace;white-space: pre;\" title=\"(6, 12)\"><center>236</center></td>\n",
       "<td style=\"font-family:monospace;white-space: pre;\" title=\"(6, 13)\"><center>237</center></td>\n",
       "<td style=\"font-family:monospace;white-space: pre;\" title=\"(6, 14)\"><center>238</center></td>\n",
       "<td style=\"font-family:monospace;white-space: pre;\" title=\"(6, 15)\"><center>239</center></td>\n",
       "</tr>\n",
       "<tr>\n",
       "<td style=\"font-family:monospace;white-space: pre;\" title=\"(7, 0)\"><center>240</center></td>\n",
       "<td style=\"font-family:monospace;white-space: pre;\" title=\"(7, 1)\"><center>241</center></td>\n",
       "<td style=\"font-family:monospace;white-space: pre;\" title=\"(7, 2)\"><center>242</center></td>\n",
       "<td style=\"font-family:monospace;white-space: pre;\" title=\"(7, 3)\"><center>243</center></td>\n",
       "<td style=\"font-family:monospace;white-space: pre;\" title=\"(7, 4)\"><center>244</center></td>\n",
       "<td style=\"font-family:monospace;white-space: pre;\" title=\"(7, 5)\"><center>245</center></td>\n",
       "<td style=\"font-family:monospace;white-space: pre;\" title=\"(7, 6)\"><center>246</center></td>\n",
       "<td style=\"font-family:monospace;white-space: pre;\" title=\"(7, 7)\"><center>247</center></td>\n",
       "<td style=\"font-family:monospace;white-space: pre;\" title=\"(7, 8)\"><center>248</center></td>\n",
       "<td style=\"font-family:monospace;white-space: pre;\" title=\"(7, 9)\"><center>249</center></td>\n",
       "<td style=\"font-family:monospace;white-space: pre;\" title=\"(7, 10)\"><center>250</center></td>\n",
       "<td style=\"font-family:monospace;white-space: pre;\" title=\"(7, 11)\"><center>251</center></td>\n",
       "<td style=\"font-family:monospace;white-space: pre;\" title=\"(7, 12)\"><center>252</center></td>\n",
       "<td style=\"font-family:monospace;white-space: pre;\" title=\"(7, 13)\"><center>253</center></td>\n",
       "<td style=\"font-family:monospace;white-space: pre;\" title=\"(7, 14)\"><center>254</center></td>\n",
       "<td style=\"font-family:monospace;white-space: pre;\" title=\"(7, 15)\"><center>255</center></td>\n",
       "</tr>\n",
       "</table>"
      ],
      "text/plain": [
       "array([[128, 129, 130, 131, 132, 133, 134, 135, 136, 137, 138, 139, 140,\n",
       "        141, 142, 143],\n",
       "       [144, 145, 146, 147, 148, 149, 150, 151, 152, 153, 154, 155, 156,\n",
       "        157, 158, 159],\n",
       "       [160, 161, 162, 163, 164, 165, 166, 167, 168, 169, 170, 171, 172,\n",
       "        173, 174, 175],\n",
       "       [176, 177, 178, 179, 180, 181, 182, 183, 184, 185, 186, 187, 188,\n",
       "        189, 190, 191],\n",
       "       [192, 193, 194, 195, 196, 197, 198, 199, 200, 201, 202, 203, 204,\n",
       "        205, 206, 207],\n",
       "       [208, 209, 210, 211, 212, 213, 214, 215, 216, 217, 218, 219, 220,\n",
       "        221, 222, 223],\n",
       "       [224, 225, 226, 227, 228, 229, 230, 231, 232, 233, 234, 235, 236,\n",
       "        237, 238, 239],\n",
       "       [240, 241, 242, 243, 244, 245, 246, 247, 248, 249, 250, 251, 252,\n",
       "        253, 254, 255]])"
      ]
     },
     "execution_count": 136,
     "metadata": {},
     "output_type": "execute_result"
    }
   ],
   "source": [
    "# 2\n",
    "data = np.arange(128, 256).reshape(8, 16)\n",
    "data"
   ]
  },
  {
   "cell_type": "code",
   "execution_count": 137,
   "metadata": {},
   "outputs": [],
   "source": [
    "%reload_ext numpy_html"
   ]
  },
  {
   "cell_type": "code",
   "execution_count": 138,
   "metadata": {},
   "outputs": [
    {
     "data": {
      "text/html": [
       "<style>\n",
       "table {margin-top: 16pt;}\n",
       "td {font-family: Arial, Helvetica, sans-serif !important; font-weight: 600; white-space: normal !important;}\n",
       "tr:nth-child(even) {background: #b0d9eb !important; color: black}\n",
       "tr:nth-child(odd) {background: #8fb1bf !important; color: black}\n",
       "</style>\n"
      ],
      "text/plain": [
       "<IPython.core.display.HTML object>"
      ]
     },
     "metadata": {},
     "output_type": "display_data"
    }
   ],
   "source": [
    "%%html\n",
    "<style>\n",
    "table {margin-top: 16pt;}\n",
    "td {font-family: Arial, Helvetica, sans-serif !important; font-weight: 600; white-space: normal !important;}\n",
    "tr:nth-child(even) {background: #b0d9eb !important; color: black}\n",
    "tr:nth-child(odd) {background: #8fb1bf !important; color: black}\n",
    "</style>"
   ]
  },
  {
   "cell_type": "code",
   "execution_count": 139,
   "metadata": {},
   "outputs": [
    {
     "data": {
      "text/html": [
       "<table style='border-style:solid;border-width:1px;'>\n",
       "<tr>\n",
       "<td style=\"font-family:monospace;white-space: pre;\" title=\"(0, 0)\"><center>0.05</center></td>\n",
       "<td style=\"font-family:monospace;white-space: pre;\" title=\"(0, 1)\"><center>0.1 </center></td>\n",
       "<td style=\"font-family:monospace;white-space: pre;\" title=\"(0, 2)\"><center>0.15</center></td>\n",
       "<td style=\"font-family:monospace;white-space: pre;\" title=\"(0, 3)\"><center>0.2 </center></td>\n",
       "<td style=\"font-family:monospace;white-space: pre;\" title=\"(0, 4)\"><center>0.25</center></td>\n",
       "<td style=\"font-family:monospace;white-space: pre;\" title=\"(0, 5)\"><center>0.3 </center></td>\n",
       "<td style=\"font-family:monospace;white-space: pre;\" title=\"(0, 6)\"><center>0.35</center></td>\n",
       "<td style=\"font-family:monospace;white-space: pre;\" title=\"(0, 7)\"><center>0.4 </center></td>\n",
       "<td style=\"font-family:monospace;white-space: pre;\" title=\"(0, 8)\"><center>0.45</center></td>\n",
       "<td style=\"font-family:monospace;white-space: pre;\" title=\"(0, 9)\"><center>0.5 </center></td>\n",
       "</tr>\n",
       "<tr>\n",
       "<td style=\"font-family:monospace;white-space: pre;\" title=\"(1, 0)\"><center>0.55</center></td>\n",
       "<td style=\"font-family:monospace;white-space: pre;\" title=\"(1, 1)\"><center>0.6 </center></td>\n",
       "<td style=\"font-family:monospace;white-space: pre;\" title=\"(1, 2)\"><center>0.65</center></td>\n",
       "<td style=\"font-family:monospace;white-space: pre;\" title=\"(1, 3)\"><center>0.7 </center></td>\n",
       "<td style=\"font-family:monospace;white-space: pre;\" title=\"(1, 4)\"><center>0.75</center></td>\n",
       "<td style=\"font-family:monospace;white-space: pre;\" title=\"(1, 5)\"><center>0.8 </center></td>\n",
       "<td style=\"font-family:monospace;white-space: pre;\" title=\"(1, 6)\"><center>0.85</center></td>\n",
       "<td style=\"font-family:monospace;white-space: pre;\" title=\"(1, 7)\"><center>0.9 </center></td>\n",
       "<td style=\"font-family:monospace;white-space: pre;\" title=\"(1, 8)\"><center>0.95</center></td>\n",
       "<td style=\"font-family:monospace;white-space: pre;\" title=\"(1, 9)\"><center>1.  </center></td>\n",
       "</tr>\n",
       "<tr>\n",
       "<td style=\"font-family:monospace;white-space: pre;\" title=\"(2, 0)\"><center>1.05</center></td>\n",
       "<td style=\"font-family:monospace;white-space: pre;\" title=\"(2, 1)\"><center>1.1 </center></td>\n",
       "<td style=\"font-family:monospace;white-space: pre;\" title=\"(2, 2)\"><center>1.15</center></td>\n",
       "<td style=\"font-family:monospace;white-space: pre;\" title=\"(2, 3)\"><center>1.2 </center></td>\n",
       "<td style=\"font-family:monospace;white-space: pre;\" title=\"(2, 4)\"><center>1.25</center></td>\n",
       "<td style=\"font-family:monospace;white-space: pre;\" title=\"(2, 5)\"><center>1.3 </center></td>\n",
       "<td style=\"font-family:monospace;white-space: pre;\" title=\"(2, 6)\"><center>1.35</center></td>\n",
       "<td style=\"font-family:monospace;white-space: pre;\" title=\"(2, 7)\"><center>1.4 </center></td>\n",
       "<td style=\"font-family:monospace;white-space: pre;\" title=\"(2, 8)\"><center>1.45</center></td>\n",
       "<td style=\"font-family:monospace;white-space: pre;\" title=\"(2, 9)\"><center>1.5 </center></td>\n",
       "</tr>\n",
       "<tr>\n",
       "<td style=\"font-family:monospace;white-space: pre;\" title=\"(3, 0)\"><center>1.55</center></td>\n",
       "<td style=\"font-family:monospace;white-space: pre;\" title=\"(3, 1)\"><center>1.6 </center></td>\n",
       "<td style=\"font-family:monospace;white-space: pre;\" title=\"(3, 2)\"><center>1.65</center></td>\n",
       "<td style=\"font-family:monospace;white-space: pre;\" title=\"(3, 3)\"><center>1.7 </center></td>\n",
       "<td style=\"font-family:monospace;white-space: pre;\" title=\"(3, 4)\"><center>1.75</center></td>\n",
       "<td style=\"font-family:monospace;white-space: pre;\" title=\"(3, 5)\"><center>1.8 </center></td>\n",
       "<td style=\"font-family:monospace;white-space: pre;\" title=\"(3, 6)\"><center>1.85</center></td>\n",
       "<td style=\"font-family:monospace;white-space: pre;\" title=\"(3, 7)\"><center>1.9 </center></td>\n",
       "<td style=\"font-family:monospace;white-space: pre;\" title=\"(3, 8)\"><center>1.95</center></td>\n",
       "<td style=\"font-family:monospace;white-space: pre;\" title=\"(3, 9)\"><center>2.  </center></td>\n",
       "</tr>\n",
       "<tr>\n",
       "<td style=\"font-family:monospace;white-space: pre;\" title=\"(4, 0)\"><center>2.05</center></td>\n",
       "<td style=\"font-family:monospace;white-space: pre;\" title=\"(4, 1)\"><center>2.1 </center></td>\n",
       "<td style=\"font-family:monospace;white-space: pre;\" title=\"(4, 2)\"><center>2.15</center></td>\n",
       "<td style=\"font-family:monospace;white-space: pre;\" title=\"(4, 3)\"><center>2.2 </center></td>\n",
       "<td style=\"font-family:monospace;white-space: pre;\" title=\"(4, 4)\"><center>2.25</center></td>\n",
       "<td style=\"font-family:monospace;white-space: pre;\" title=\"(4, 5)\"><center>2.3 </center></td>\n",
       "<td style=\"font-family:monospace;white-space: pre;\" title=\"(4, 6)\"><center>2.35</center></td>\n",
       "<td style=\"font-family:monospace;white-space: pre;\" title=\"(4, 7)\"><center>2.4 </center></td>\n",
       "<td style=\"font-family:monospace;white-space: pre;\" title=\"(4, 8)\"><center>2.45</center></td>\n",
       "<td style=\"font-family:monospace;white-space: pre;\" title=\"(4, 9)\"><center>2.5 </center></td>\n",
       "</tr>\n",
       "<tr>\n",
       "<td style=\"font-family:monospace;white-space: pre;\" title=\"(5, 0)\"><center>2.55</center></td>\n",
       "<td style=\"font-family:monospace;white-space: pre;\" title=\"(5, 1)\"><center>2.6 </center></td>\n",
       "<td style=\"font-family:monospace;white-space: pre;\" title=\"(5, 2)\"><center>2.65</center></td>\n",
       "<td style=\"font-family:monospace;white-space: pre;\" title=\"(5, 3)\"><center>2.7 </center></td>\n",
       "<td style=\"font-family:monospace;white-space: pre;\" title=\"(5, 4)\"><center>2.75</center></td>\n",
       "<td style=\"font-family:monospace;white-space: pre;\" title=\"(5, 5)\"><center>2.8 </center></td>\n",
       "<td style=\"font-family:monospace;white-space: pre;\" title=\"(5, 6)\"><center>2.85</center></td>\n",
       "<td style=\"font-family:monospace;white-space: pre;\" title=\"(5, 7)\"><center>2.9 </center></td>\n",
       "<td style=\"font-family:monospace;white-space: pre;\" title=\"(5, 8)\"><center>2.95</center></td>\n",
       "<td style=\"font-family:monospace;white-space: pre;\" title=\"(5, 9)\"><center>3.  </center></td>\n",
       "</tr>\n",
       "<tr>\n",
       "<td style=\"font-family:monospace;white-space: pre;\" title=\"(6, 0)\"><center>3.05</center></td>\n",
       "<td style=\"font-family:monospace;white-space: pre;\" title=\"(6, 1)\"><center>3.1 </center></td>\n",
       "<td style=\"font-family:monospace;white-space: pre;\" title=\"(6, 2)\"><center>3.15</center></td>\n",
       "<td style=\"font-family:monospace;white-space: pre;\" title=\"(6, 3)\"><center>3.2 </center></td>\n",
       "<td style=\"font-family:monospace;white-space: pre;\" title=\"(6, 4)\"><center>3.25</center></td>\n",
       "<td style=\"font-family:monospace;white-space: pre;\" title=\"(6, 5)\"><center>3.3 </center></td>\n",
       "<td style=\"font-family:monospace;white-space: pre;\" title=\"(6, 6)\"><center>3.35</center></td>\n",
       "<td style=\"font-family:monospace;white-space: pre;\" title=\"(6, 7)\"><center>3.4 </center></td>\n",
       "<td style=\"font-family:monospace;white-space: pre;\" title=\"(6, 8)\"><center>3.45</center></td>\n",
       "<td style=\"font-family:monospace;white-space: pre;\" title=\"(6, 9)\"><center>3.5 </center></td>\n",
       "</tr>\n",
       "<tr>\n",
       "<td style=\"font-family:monospace;white-space: pre;\" title=\"(7, 0)\"><center>3.55</center></td>\n",
       "<td style=\"font-family:monospace;white-space: pre;\" title=\"(7, 1)\"><center>3.6 </center></td>\n",
       "<td style=\"font-family:monospace;white-space: pre;\" title=\"(7, 2)\"><center>3.65</center></td>\n",
       "<td style=\"font-family:monospace;white-space: pre;\" title=\"(7, 3)\"><center>3.7 </center></td>\n",
       "<td style=\"font-family:monospace;white-space: pre;\" title=\"(7, 4)\"><center>3.75</center></td>\n",
       "<td style=\"font-family:monospace;white-space: pre;\" title=\"(7, 5)\"><center>3.8 </center></td>\n",
       "<td style=\"font-family:monospace;white-space: pre;\" title=\"(7, 6)\"><center>3.85</center></td>\n",
       "<td style=\"font-family:monospace;white-space: pre;\" title=\"(7, 7)\"><center>3.9 </center></td>\n",
       "<td style=\"font-family:monospace;white-space: pre;\" title=\"(7, 8)\"><center>3.95</center></td>\n",
       "<td style=\"font-family:monospace;white-space: pre;\" title=\"(7, 9)\"><center>4.  </center></td>\n",
       "</tr>\n",
       "<tr>\n",
       "<td style=\"font-family:monospace;white-space: pre;\" title=\"(8, 0)\"><center>4.05</center></td>\n",
       "<td style=\"font-family:monospace;white-space: pre;\" title=\"(8, 1)\"><center>4.1 </center></td>\n",
       "<td style=\"font-family:monospace;white-space: pre;\" title=\"(8, 2)\"><center>4.15</center></td>\n",
       "<td style=\"font-family:monospace;white-space: pre;\" title=\"(8, 3)\"><center>4.2 </center></td>\n",
       "<td style=\"font-family:monospace;white-space: pre;\" title=\"(8, 4)\"><center>4.25</center></td>\n",
       "<td style=\"font-family:monospace;white-space: pre;\" title=\"(8, 5)\"><center>4.3 </center></td>\n",
       "<td style=\"font-family:monospace;white-space: pre;\" title=\"(8, 6)\"><center>4.35</center></td>\n",
       "<td style=\"font-family:monospace;white-space: pre;\" title=\"(8, 7)\"><center>4.4 </center></td>\n",
       "<td style=\"font-family:monospace;white-space: pre;\" title=\"(8, 8)\"><center>4.45</center></td>\n",
       "<td style=\"font-family:monospace;white-space: pre;\" title=\"(8, 9)\"><center>4.5 </center></td>\n",
       "</tr>\n",
       "<tr>\n",
       "<td style=\"font-family:monospace;white-space: pre;\" title=\"(9, 0)\"><center>4.55</center></td>\n",
       "<td style=\"font-family:monospace;white-space: pre;\" title=\"(9, 1)\"><center>4.6 </center></td>\n",
       "<td style=\"font-family:monospace;white-space: pre;\" title=\"(9, 2)\"><center>4.65</center></td>\n",
       "<td style=\"font-family:monospace;white-space: pre;\" title=\"(9, 3)\"><center>4.7 </center></td>\n",
       "<td style=\"font-family:monospace;white-space: pre;\" title=\"(9, 4)\"><center>4.75</center></td>\n",
       "<td style=\"font-family:monospace;white-space: pre;\" title=\"(9, 5)\"><center>4.8 </center></td>\n",
       "<td style=\"font-family:monospace;white-space: pre;\" title=\"(9, 6)\"><center>4.85</center></td>\n",
       "<td style=\"font-family:monospace;white-space: pre;\" title=\"(9, 7)\"><center>4.9 </center></td>\n",
       "<td style=\"font-family:monospace;white-space: pre;\" title=\"(9, 8)\"><center>4.95</center></td>\n",
       "<td style=\"font-family:monospace;white-space: pre;\" title=\"(9, 9)\"><center>5.  </center></td>\n",
       "</tr>\n",
       "</table>"
      ],
      "text/plain": [
       "array([[0.05, 0.1 , 0.15, 0.2 , 0.25, 0.3 , 0.35, 0.4 , 0.45, 0.5 ],\n",
       "       [0.55, 0.6 , 0.65, 0.7 , 0.75, 0.8 , 0.85, 0.9 , 0.95, 1.  ],\n",
       "       [1.05, 1.1 , 1.15, 1.2 , 1.25, 1.3 , 1.35, 1.4 , 1.45, 1.5 ],\n",
       "       [1.55, 1.6 , 1.65, 1.7 , 1.75, 1.8 , 1.85, 1.9 , 1.95, 2.  ],\n",
       "       [2.05, 2.1 , 2.15, 2.2 , 2.25, 2.3 , 2.35, 2.4 , 2.45, 2.5 ],\n",
       "       [2.55, 2.6 , 2.65, 2.7 , 2.75, 2.8 , 2.85, 2.9 , 2.95, 3.  ],\n",
       "       [3.05, 3.1 , 3.15, 3.2 , 3.25, 3.3 , 3.35, 3.4 , 3.45, 3.5 ],\n",
       "       [3.55, 3.6 , 3.65, 3.7 , 3.75, 3.8 , 3.85, 3.9 , 3.95, 4.  ],\n",
       "       [4.05, 4.1 , 4.15, 4.2 , 4.25, 4.3 , 4.35, 4.4 , 4.45, 4.5 ],\n",
       "       [4.55, 4.6 , 4.65, 4.7 , 4.75, 4.8 , 4.85, 4.9 , 4.95, 5.  ]])"
      ]
     },
     "execution_count": 139,
     "metadata": {},
     "output_type": "execute_result"
    }
   ],
   "source": [
    "# 3\n",
    "import numpy as np\n",
    "np.linspace(0.05, 5, 100).reshape(10, 10)\n",
    "\n",
    "     "
   ]
  },
  {
   "cell_type": "code",
   "execution_count": 140,
   "metadata": {},
   "outputs": [
    {
     "data": {
      "text/html": [
       "<table style='border-style:solid;border-width:1px;'>\n",
       "<tr>\n",
       "<td style=\"font-family:monospace;white-space: pre;\" title=\"(0, 0)\"><center>1 </center></td>\n",
       "<td style=\"font-family:monospace;white-space: pre;\" title=\"(0, 1)\"><center>2 </center></td>\n",
       "<td style=\"font-family:monospace;white-space: pre;\" title=\"(0, 2)\"><center>3 </center></td>\n",
       "<td style=\"font-family:monospace;white-space: pre;\" title=\"(0, 3)\"><center>4 </center></td>\n",
       "<td style=\"font-family:monospace;white-space: pre;\" title=\"(0, 4)\"><center>5 </center></td>\n",
       "<td style=\"font-family:monospace;white-space: pre;\" title=\"(0, 5)\"><center>6 </center></td>\n",
       "</tr>\n",
       "<tr>\n",
       "<td style=\"font-family:monospace;white-space: pre;\" title=\"(1, 0)\"><center>7 </center></td>\n",
       "<td style=\"font-family:monospace;white-space: pre;\" title=\"(1, 1)\"><center>8 </center></td>\n",
       "<td style=\"font-family:monospace;white-space: pre;\" title=\"(1, 2)\"><center>9 </center></td>\n",
       "<td style=\"font-family:monospace;white-space: pre;\" title=\"(1, 3)\"><center>10</center></td>\n",
       "<td style=\"font-family:monospace;white-space: pre;\" title=\"(1, 4)\"><center>11</center></td>\n",
       "<td style=\"font-family:monospace;white-space: pre;\" title=\"(1, 5)\"><center>12</center></td>\n",
       "</tr>\n",
       "<tr>\n",
       "<td style=\"font-family:monospace;white-space: pre;\" title=\"(2, 0)\"><center>13</center></td>\n",
       "<td style=\"font-family:monospace;white-space: pre;\" title=\"(2, 1)\"><center>14</center></td>\n",
       "<td style=\"font-family:monospace;white-space: pre;\" title=\"(2, 2)\"><center>15</center></td>\n",
       "<td style=\"font-family:monospace;white-space: pre;\" title=\"(2, 3)\"><center>16</center></td>\n",
       "<td style=\"font-family:monospace;white-space: pre;\" title=\"(2, 4)\"><center>17</center></td>\n",
       "<td style=\"font-family:monospace;white-space: pre;\" title=\"(2, 5)\"><center>18</center></td>\n",
       "</tr>\n",
       "<tr>\n",
       "<td style=\"font-family:monospace;white-space: pre;\" title=\"(3, 0)\"><center>19</center></td>\n",
       "<td style=\"font-family:monospace;white-space: pre;\" title=\"(3, 1)\"><center>20</center></td>\n",
       "<td style=\"font-family:monospace;white-space: pre;\" title=\"(3, 2)\"><center>21</center></td>\n",
       "<td style=\"font-family:monospace;white-space: pre;\" title=\"(3, 3)\"><center>22</center></td>\n",
       "<td style=\"font-family:monospace;white-space: pre;\" title=\"(3, 4)\"><center>23</center></td>\n",
       "<td style=\"font-family:monospace;white-space: pre;\" title=\"(3, 5)\"><center>24</center></td>\n",
       "</tr>\n",
       "<tr>\n",
       "<td style=\"font-family:monospace;white-space: pre;\" title=\"(4, 0)\"><center>25</center></td>\n",
       "<td style=\"font-family:monospace;white-space: pre;\" title=\"(4, 1)\"><center>26</center></td>\n",
       "<td style=\"font-family:monospace;white-space: pre;\" title=\"(4, 2)\"><center>27</center></td>\n",
       "<td style=\"font-family:monospace;white-space: pre;\" title=\"(4, 3)\"><center>28</center></td>\n",
       "<td style=\"font-family:monospace;white-space: pre;\" title=\"(4, 4)\"><center>29</center></td>\n",
       "<td style=\"font-family:monospace;white-space: pre;\" title=\"(4, 5)\"><center>30</center></td>\n",
       "</tr>\n",
       "<tr>\n",
       "<td style=\"font-family:monospace;white-space: pre;\" title=\"(5, 0)\"><center>31</center></td>\n",
       "<td style=\"font-family:monospace;white-space: pre;\" title=\"(5, 1)\"><center>32</center></td>\n",
       "<td style=\"font-family:monospace;white-space: pre;\" title=\"(5, 2)\"><center>33</center></td>\n",
       "<td style=\"font-family:monospace;white-space: pre;\" title=\"(5, 3)\"><center>34</center></td>\n",
       "<td style=\"font-family:monospace;white-space: pre;\" title=\"(5, 4)\"><center>35</center></td>\n",
       "<td style=\"font-family:monospace;white-space: pre;\" title=\"(5, 5)\"><center>36</center></td>\n",
       "</tr>\n",
       "</table>"
      ],
      "text/plain": [
       "array([[ 1,  2,  3,  4,  5,  6],\n",
       "       [ 7,  8,  9, 10, 11, 12],\n",
       "       [13, 14, 15, 16, 17, 18],\n",
       "       [19, 20, 21, 22, 23, 24],\n",
       "       [25, 26, 27, 28, 29, 30],\n",
       "       [31, 32, 33, 34, 35, 36]])"
      ]
     },
     "execution_count": 140,
     "metadata": {},
     "output_type": "execute_result"
    }
   ],
   "source": [
    "# ex_6\n",
    "# 1\n",
    "data = np.arange(1, 37).reshape(6, 6)\n",
    "data"
   ]
  },
  {
   "cell_type": "code",
   "execution_count": 190,
   "metadata": {},
   "outputs": [
    {
     "data": {
      "text/html": [
       "<table style='border-style:solid;border-width:1px;'>\n",
       "<tr>\n",
       "<td style=\"font-family:monospace;white-space: pre;\" title=\"(0, 0)\"><center>19</center></td>\n",
       "<td style=\"font-family:monospace;white-space: pre;\" title=\"(0, 1)\"><center>20</center></td>\n",
       "<td style=\"font-family:monospace;white-space: pre;\" title=\"(0, 2)\"><center>21</center></td>\n",
       "<td style=\"font-family:monospace;white-space: pre;\" title=\"(0, 3)\"><center>22</center></td>\n",
       "<td style=\"font-family:monospace;white-space: pre;\" title=\"(0, 4)\"><center>23</center></td>\n",
       "<td style=\"font-family:monospace;white-space: pre;\" title=\"(0, 5)\"><center>24</center></td>\n",
       "</tr>\n",
       "<tr>\n",
       "<td style=\"font-family:monospace;white-space: pre;\" title=\"(1, 0)\"><center>25</center></td>\n",
       "<td style=\"font-family:monospace;white-space: pre;\" title=\"(1, 1)\"><center>26</center></td>\n",
       "<td style=\"font-family:monospace;white-space: pre;\" title=\"(1, 2)\"><center>27</center></td>\n",
       "<td style=\"font-family:monospace;white-space: pre;\" title=\"(1, 3)\"><center>28</center></td>\n",
       "<td style=\"font-family:monospace;white-space: pre;\" title=\"(1, 4)\"><center>29</center></td>\n",
       "<td style=\"font-family:monospace;white-space: pre;\" title=\"(1, 5)\"><center>30</center></td>\n",
       "</tr>\n",
       "<tr>\n",
       "<td style=\"font-family:monospace;white-space: pre;\" title=\"(2, 0)\"><center>31</center></td>\n",
       "<td style=\"font-family:monospace;white-space: pre;\" title=\"(2, 1)\"><center>32</center></td>\n",
       "<td style=\"font-family:monospace;white-space: pre;\" title=\"(2, 2)\"><center>33</center></td>\n",
       "<td style=\"font-family:monospace;white-space: pre;\" title=\"(2, 3)\"><center>34</center></td>\n",
       "<td style=\"font-family:monospace;white-space: pre;\" title=\"(2, 4)\"><center>35</center></td>\n",
       "<td style=\"font-family:monospace;white-space: pre;\" title=\"(2, 5)\"><center>36</center></td>\n",
       "</tr>\n",
       "</table>"
      ],
      "text/plain": [
       "array([[19, 20, 21, 22, 23, 24],\n",
       "       [25, 26, 27, 28, 29, 30],\n",
       "       [31, 32, 33, 34, 35, 36]])"
      ]
     },
     "execution_count": 190,
     "metadata": {},
     "output_type": "execute_result"
    }
   ],
   "source": [
    "slice = data[3:]\n",
    "slice"
   ]
  },
  {
   "cell_type": "code",
   "execution_count": 191,
   "metadata": {},
   "outputs": [
    {
     "data": {
      "text/html": [
       "<table style='border-style:solid;border-width:1px;'>\n",
       "<tr>\n",
       "<td style=\"font-family:monospace;white-space: pre;\" title=\"(0, 0)\"><center>1 </center></td>\n",
       "<td style=\"font-family:monospace;white-space: pre;\" title=\"(0, 1)\"><center>2 </center></td>\n",
       "<td style=\"font-family:monospace;white-space: pre;\" title=\"(0, 2)\"><center>3 </center></td>\n",
       "<td style=\"font-family:monospace;white-space: pre;\" title=\"(0, 3)\"><center>4 </center></td>\n",
       "<td style=\"font-family:monospace;white-space: pre;\" title=\"(0, 4)\"><center>5 </center></td>\n",
       "<td style=\"font-family:monospace;white-space: pre;\" title=\"(0, 5)\"><center>6 </center></td>\n",
       "</tr>\n",
       "<tr>\n",
       "<td style=\"font-family:monospace;white-space: pre;\" title=\"(1, 0)\"><center>7 </center></td>\n",
       "<td style=\"font-family:monospace;white-space: pre;\" title=\"(1, 1)\"><center>8 </center></td>\n",
       "<td style=\"font-family:monospace;white-space: pre;\" title=\"(1, 2)\"><center>9 </center></td>\n",
       "<td style=\"font-family:monospace;white-space: pre;\" title=\"(1, 3)\"><center>10</center></td>\n",
       "<td style=\"font-family:monospace;white-space: pre;\" title=\"(1, 4)\"><center>11</center></td>\n",
       "<td style=\"font-family:monospace;white-space: pre;\" title=\"(1, 5)\"><center>12</center></td>\n",
       "</tr>\n",
       "<tr>\n",
       "<td style=\"font-family:monospace;white-space: pre;\" title=\"(2, 0)\"><center>13</center></td>\n",
       "<td style=\"font-family:monospace;white-space: pre;\" title=\"(2, 1)\"><center>14</center></td>\n",
       "<td style=\"font-family:monospace;white-space: pre;\" title=\"(2, 2)\"><center>15</center></td>\n",
       "<td style=\"font-family:monospace;white-space: pre;\" title=\"(2, 3)\"><center>16</center></td>\n",
       "<td style=\"font-family:monospace;white-space: pre;\" title=\"(2, 4)\"><center>17</center></td>\n",
       "<td style=\"font-family:monospace;white-space: pre;\" title=\"(2, 5)\"><center>18</center></td>\n",
       "</tr>\n",
       "</table>"
      ],
      "text/plain": [
       "array([[ 1,  2,  3,  4,  5,  6],\n",
       "       [ 7,  8,  9, 10, 11, 12],\n",
       "       [13, 14, 15, 16, 17, 18]])"
      ]
     },
     "execution_count": 191,
     "metadata": {},
     "output_type": "execute_result"
    }
   ],
   "source": [
    "slice = data[:3]\n",
    "slice"
   ]
  },
  {
   "cell_type": "code",
   "execution_count": null,
   "metadata": {},
   "outputs": [],
   "source": []
  }
 ],
 "metadata": {
  "kernelspec": {
   "display_name": "Python 3",
   "language": "python",
   "name": "python3"
  },
  "language_info": {
   "codemirror_mode": {
    "name": "ipython",
    "version": 3
   },
   "file_extension": ".py",
   "mimetype": "text/x-python",
   "name": "python",
   "nbconvert_exporter": "python",
   "pygments_lexer": "ipython3",
   "version": "3.9.13"
  },
  "orig_nbformat": 4,
  "vscode": {
   "interpreter": {
    "hash": "aee8b7b246df8f9039afb4144a1f6fd8d2ca17a180786b69acc140d282b71a49"
   }
  }
 },
 "nbformat": 4,
 "nbformat_minor": 2
}
