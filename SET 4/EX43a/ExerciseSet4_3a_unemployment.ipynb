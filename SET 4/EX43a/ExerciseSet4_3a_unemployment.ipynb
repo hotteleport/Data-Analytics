{
 "cells": [
  {
   "attachments": {},
   "cell_type": "markdown",
   "metadata": {},
   "source": [
    "<h3><b>Introduction to Data Analytics - Exercise set 4, exercise 3a.</b></h3>\n",
    "<h4><b>US Unemployment dataset</b></h4>\n",
    "<img src=\"http://srv.plab.fi/~tuomasv/data_analytics_2023_images/exercise_set_4/calendar.png\" />\n"
   ]
  },
  {
   "attachments": {},
   "cell_type": "markdown",
   "metadata": {},
   "source": [
    "<b>Tip:</b> You can just click \"Run All\" to see the results of this notebook. Some of these exercises have some heavy plots that can take even 1 minute to produce.\n"
   ]
  },
  {
   "attachments": {},
   "cell_type": "markdown",
   "metadata": {},
   "source": [
    "<b>Remember:</b> not every dataset has interesting correlations and/or features (too much randomness or variance usually, or not enough data). Also, not each correlation implies there's a causation. Finally, not every plot is useful, that's why it's important to try multiple plots in order to \"see under the hood\". Typically pair plots, joint plots, regression plots, heatmaps and box plots are most useful, but there are some exceptions too."
   ]
  },
  {
   "attachments": {},
   "cell_type": "markdown",
   "metadata": {},
   "source": [
    "<h3><b>Quick summary of data:</b></h3>\n",
    "\n",
    "<p>This dataset contains unemployment rates from year 1948 to 2019 in the USA.</p>\n",
    "<p>This notebook is a perfect example why pivot tables and heatmaps are so important. It also demonstrates the fantastic feature in pandas called \"melt\".</p>\n",
    "<p>Kaggle page: <a href=\"https://www.kaggle.com/datasets/tunguz/us-monthly-unemployment-rate-1948-present\">https://www.kaggle.com/datasets/tunguz/us-monthly-unemployment-rate-1948-present</a></p>"
   ]
  },
  {
   "attachments": {},
   "cell_type": "markdown",
   "metadata": {},
   "source": [
    "<h3><b>Questions for this exercise:</b></h3>\n",
    "<b>Answer the questions either as code comments or as markdown. Use separate cells to write your answers.</b><br/><br/>\n",
    "<li>You should see two extensive unemployment periods in the dataset. What are these years, and can find you any info by using Google on these years in US unemployment?</li>\n",
    "<li>Which seaborn plots are useful in this notebook, and which are not? Why? (you can remove the unnecessary plots from this notebook if you wish too).</li>\n",
    "<li>Which are more useful in this case, correlations or plots? Or are they both useful?</li>\n",
    "\n",
    "<b>Extra questions/tasks for extra points:</b>\n",
    "<li>Any other ideas about this dataset? Any ways to expand or improve the dataset and the analysis?</li>\n"
   ]
  },
  {
   "attachments": {},
   "cell_type": "markdown",
   "metadata": {},
   "source": [
    "<hr />"
   ]
  },
  {
   "attachments": {},
   "cell_type": "markdown",
   "metadata": {},
   "source": [
    "<h4><b>Imports and load the original dataset</b></h4>"
   ]
  },
  {
   "cell_type": "code",
   "execution_count": null,
   "metadata": {},
   "outputs": [],
   "source": [
    "# import the common data analytics modules\n",
    "import numpy as np\n",
    "import pandas as pd\n",
    "import seaborn as sns\n",
    "import matplotlib.pyplot as plt\n",
    "\n",
    "# disable scientific notation in pandas\n",
    "pd.set_option('display.float_format', lambda x: '%.2f' % x)"
   ]
  },
  {
   "attachments": {},
   "cell_type": "markdown",
   "metadata": {},
   "source": [
    "<h4><b>Helper functions for dataset cleaning</b></h4>"
   ]
  },
  {
   "cell_type": "code",
   "execution_count": null,
   "metadata": {},
   "outputs": [],
   "source": [
    "# helper function for pandas to convert string format month names to a corresponding number\n",
    "# numbers are much more useful when it comes to heatmaps, since it puts the months in order\n",
    "# note: a more neat way to do this would be use the value mapping feature in pandas\n",
    "def month_to_numeric(row):\n",
    "    month = row['Month']\n",
    "\n",
    "    # map the needed month\n",
    "    if month == \"Jan\":\n",
    "        return 1\n",
    "    elif month == \"Feb\":\n",
    "        return 2\n",
    "    elif month == \"Feb\":\n",
    "        return 3\n",
    "    elif month == \"Mar\":\n",
    "        return 4\n",
    "    elif month == \"Apr\":\n",
    "        return 5\n",
    "    elif month == \"Jun\":\n",
    "        return 6\n",
    "    elif month == \"Jul\":\n",
    "        return 7\n",
    "    elif month == \"Aug\":\n",
    "        return 8\n",
    "    elif month == \"Sep\":\n",
    "        return 9\n",
    "    elif month == \"Oct\":\n",
    "        return 10\n",
    "    elif month == \"Nov\":\n",
    "        return 11\n",
    "    elif month == \"Dec\":\n",
    "        return 12"
   ]
  },
  {
   "attachments": {},
   "cell_type": "markdown",
   "metadata": {},
   "source": [
    "<h4><b>Processing data</b></h4>"
   ]
  },
  {
   "cell_type": "code",
   "execution_count": null,
   "metadata": {},
   "outputs": [],
   "source": [
    "# read the dataset and create a correlation matrix\n",
    "df = pd.read_csv(\"USUnemployment.csv\")\n",
    "correlations = df.corr().round(2)\n",
    "\n",
    "# this function in pandas is called \"melt\", and it's one of\n",
    "# the more impressive features in pandas. with loops, this would be\n",
    "# a tedious operation to be done\n",
    "\n",
    "# here's an example what melt-function does:\n",
    "\n",
    "# original DataFrame:\n",
    "# Year,Jan,Feb,Mar,Apr,May,Jun,Jul,Aug,Sep,Oct,Nov,Dec\n",
    "# 1948,3.4,3.8,4.0,3.9,3.5,3.6,3.6,3.9,3.8,3.7,3.8,4.0\n",
    "# 1949,4.3,4.7,5.0,5.3,6.1,6.2,6.7,6.8,6.6,7.9,6.4,6.6\n",
    "# 1950,6.5,6.4,6.3,5.8,5.5,5.4,5.0,4.5,4.4,4.2,4.2,4.3\n",
    "\n",
    "# after melt, the format is this:\n",
    "# Year, Month,  Value\n",
    "# 1948, 1,      3.4\n",
    "# 1949, 1,      4.3\n",
    "# 1950, 1,      6.5\n",
    "\n",
    "# and so on. you can use the Data Viewer to compare df and df2\n",
    "# remember the melt-function every time you have TimeSeries -data,\n",
    "# but it's not yet very compatible for pivot table and heatmap\n",
    "\n",
    "df2 = df.melt(id_vars=[\"Year\"], \n",
    "             var_name=\"Month\",\n",
    "             value_name=\"Value\")\n",
    "\n",
    "# convert year to integer (better for heatmaps)\n",
    "# also switch month string format to an integer by using the helper function (see code above)\n",
    "df2['Year'] = df2['Year'].astype(int)\n",
    "df2['Month'] = df2.apply(month_to_numeric, axis=1)\n",
    "\n",
    "# create pivot table for a later heatmap\n",
    "pt = df2.pivot_table(index='Month', columns='Year', values='Value')"
   ]
  },
  {
   "attachments": {},
   "cell_type": "markdown",
   "metadata": {},
   "source": [
    "<h4><b>seaborn plots - heatmaps for correlations matrices</b></h4>"
   ]
  },
  {
   "cell_type": "code",
   "execution_count": null,
   "metadata": {},
   "outputs": [],
   "source": [
    "# basic heatmap for original data correlation matrix\n",
    "sns.heatmap(correlations, annot=True)"
   ]
  },
  {
   "cell_type": "code",
   "execution_count": null,
   "metadata": {},
   "outputs": [],
   "source": [
    "# basic heatmap for melted correlation matrix\n",
    "sns.heatmap(df2.corr().round(4), annot=True)"
   ]
  },
  {
   "attachments": {},
   "cell_type": "markdown",
   "metadata": {},
   "source": [
    "<h4><b>seaborn plots - joint plots and pivot table heatmap</b></h4>"
   ]
  },
  {
   "cell_type": "code",
   "execution_count": null,
   "metadata": {},
   "outputs": [],
   "source": [
    "# basic joint plot for unemployment value and year\n",
    "sns.jointplot(x='Year', y='Value', data=df2)"
   ]
  },
  {
   "cell_type": "code",
   "execution_count": null,
   "metadata": {},
   "outputs": [],
   "source": [
    "# basic joint plot for unemployment value and year, hue on month\n",
    "sns.jointplot(x='Year', y='Value', data=df2, hue='Month')"
   ]
  },
  {
   "cell_type": "code",
   "execution_count": null,
   "metadata": {},
   "outputs": [],
   "source": [
    "# heatmap for pivot table\n",
    "sns.heatmap(pt, cmap='magma') "
   ]
  }
 ],
 "metadata": {
  "kernelspec": {
   "display_name": ".venv",
   "language": "python",
   "name": "python3"
  },
  "language_info": {
   "codemirror_mode": {
    "name": "ipython",
    "version": 3
   },
   "file_extension": ".py",
   "mimetype": "text/x-python",
   "name": "python",
   "nbconvert_exporter": "python",
   "pygments_lexer": "ipython3",
   "version": "3.9.13"
  },
  "orig_nbformat": 4
 },
 "nbformat": 4,
 "nbformat_minor": 2
}
