{
 "cells": [
  {
   "attachments": {},
   "cell_type": "markdown",
   "metadata": {},
   "source": [
    "<h3><b>Introduction to Data Analytics - Exercise set 4, exercise 4</b></h3>\n",
    "\n",
    "<h4><b>Youtube channel popularity dataset</b></h4>\n",
    "<img src=\"http://srv.plab.fi/~tuomasv/data_analytics_2023_images/exercise_set_4/youtube.png\" />"
   ]
  },
  {
   "attachments": {},
   "cell_type": "markdown",
   "metadata": {},
   "source": [
    "<b>Tip:</b> You can just click \"Run All\" to see the results of this notebook. Some of these exercises have some heavy plots that can take even 1 minute to produce."
   ]
  },
  {
   "attachments": {},
   "cell_type": "markdown",
   "metadata": {},
   "source": [
    "<b>Remember:</b> not every dataset has interesting correlations and/or features (too much randomness or variance usually, or not enough data, or data is just self-explanatory). Also, not each correlation implies there's a causation. Finally, not every plot is useful, that's why it's important to try multiple plots in order to \"see under the hood\". Typically pair plots, joint plots, regression plots, heatmaps and box plots are most useful, but there are some exceptions too."
   ]
  },
  {
   "attachments": {},
   "cell_type": "markdown",
   "metadata": {},
   "source": [
    "<h3><b>Quick summary of data:</b></h3>\n",
    "\n",
    "<p>This dataset contains information on most popular / subscribed YouTube channels. The data includes the channel rank, amount of subscribers, video count, video views, YouTuber/channel name, category and the year the channel started.</p>\n",
    "\n",
    "<p>Original data: <a href=\"https://www.kaggle.com/datasets/themrityunjaypathak/most-subscribed-1000-youtube-channels\">https://www.kaggle.com/datasets/themrityunjaypathak/most-subscribed-1000-youtube-channels</a></p>"
   ]
  },
  {
   "attachments": {},
   "cell_type": "markdown",
   "metadata": {},
   "source": [
    "<h3><b>Questions for this exercise:</b></h3>\n",
    "<b>Answer the questions either as code comments or as markdown. Use separate cells to write your answers.</b><br/><br/>\n",
    "<li>What features seem to affect the popularity of a YouTube channel?</li>\n",
    "<li>Can we determine the \"formula\" on how to be successful in YouTube based on this data? Which columns affect the popularity the most?</li>\n",
    "\n",
    "<b>Extra questions/tasks for extra points:</b>\n",
    "<li>What characteristics different YouTube channel categories seem to have on different columns?</li>\n",
    "<li>Any other ideas about this dataset? Any ways to expand or improve the dataset and the analysis?</li>\n"
   ]
  },
  {
   "attachments": {},
   "cell_type": "markdown",
   "metadata": {},
   "source": [
    "<hr />"
   ]
  },
  {
   "attachments": {},
   "cell_type": "markdown",
   "metadata": {},
   "source": [
    "<h4><b>Imports and load the original dataset</b></h4>"
   ]
  },
  {
   "cell_type": "code",
   "execution_count": null,
   "metadata": {},
   "outputs": [],
   "source": [
    "# import the common data analytics modules\n",
    "import numpy as np\n",
    "import pandas as pd\n",
    "import seaborn as sns\n",
    "import matplotlib.pyplot as plt"
   ]
  },
  {
   "attachments": {},
   "cell_type": "markdown",
   "metadata": {},
   "source": [
    "<h4><b>Helper functions for data clean-up</b></h4>"
   ]
  },
  {
   "cell_type": "code",
   "execution_count": null,
   "metadata": {},
   "outputs": [],
   "source": [
    "# helper function that takes care of some messed category names \n",
    "# that contain a URL instead of an actual category\n",
    "def fix_category(row):\n",
    "    category = row['Category']\n",
    "\n",
    "    if \"https\" in category:\n",
    "        return \"Other\"\n",
    "    else:\n",
    "        return category"
   ]
  },
  {
   "attachments": {},
   "cell_type": "markdown",
   "metadata": {},
   "source": [
    "<h4><b>Data processing</b></h4>"
   ]
  },
  {
   "cell_type": "code",
   "execution_count": null,
   "metadata": {},
   "outputs": [],
   "source": [
    "# load the dataset\n",
    "df = pd.read_csv(\"youtube.csv\")\n",
    "\n",
    "# clean up the subscribers, video views and video count  -columns\n",
    "df['Subscribers'] = df['Subscribers'].str.replace(\",\", \"\").astype(\"int64\")\n",
    "df['Video Views'] = df['Video Views'].str.replace(\",\", \"\").astype(\"int64\")\n",
    "df['Video Count'] = df['Video Count'].str.replace(\",\", \"\").astype(\"int64\")\n",
    "\n",
    "df['Category'] = df.apply(fix_category, axis=1)\n",
    "\n",
    "# remove channels without videos and videos that are marked before YouTube existed (faulty data)\n",
    "df = df[df['Video Count'] > 0]\n",
    "df = df[df['Started'] > 2000]\n",
    "\n",
    "# adding a new column, does average video view per amount of subscribers affect the analysis?\n",
    "df['views_per_sub'] = df['Video Views'] / df['Subscribers']\n",
    "\n",
    "# filter out 6 most common categories\n",
    "categories = list(df['Category'].value_counts().index)\n",
    "common_categories = categories[0:6]\n",
    "\n",
    "# filter out only common categories\n",
    "df2 = df[df['Category'].isin(common_categories)].copy()\n",
    "\n",
    "# save correlations for further inspecting\n",
    "correlations = df.corr(numeric_only=True)\n",
    "correlations2 = df2.corr(numeric_only=True)"
   ]
  },
  {
   "attachments": {},
   "cell_type": "markdown",
   "metadata": {},
   "source": [
    "<h4><b>seaborn plots - pair plots</b></h4>"
   ]
  },
  {
   "cell_type": "code",
   "execution_count": null,
   "metadata": {},
   "outputs": [],
   "source": [
    "# pairplot, hue on category, original dataset\n",
    "sns.pairplot(df, hue='Category')"
   ]
  },
  {
   "cell_type": "code",
   "execution_count": null,
   "metadata": {},
   "outputs": [],
   "source": [
    "# pairplot, hue on category, filtered dataset (most common categories only)\n",
    "sns.pairplot(df2, hue='Category')"
   ]
  },
  {
   "attachments": {},
   "cell_type": "markdown",
   "metadata": {},
   "source": [
    "<h4><b>seaborn plots - linear regression plots</b></h4>"
   ]
  },
  {
   "cell_type": "code",
   "execution_count": null,
   "metadata": {},
   "outputs": [],
   "source": [
    "# linear regression plot, Start year and Subscribers\n",
    "sns.lmplot(x='Started', y='Subscribers', data=df2)"
   ]
  },
  {
   "cell_type": "code",
   "execution_count": null,
   "metadata": {},
   "outputs": [],
   "source": [
    "# linear regression plot, Start year and Subscribers, hue on category\n",
    "sns.lmplot(x='Started', y='Subscribers', data=df2, hue=\"Category\")"
   ]
  },
  {
   "cell_type": "code",
   "execution_count": null,
   "metadata": {},
   "outputs": [],
   "source": [
    "# linear regression plot, Start year and views per subscriber\n",
    "sns.lmplot(x='Started', y='views_per_sub', data=df2)"
   ]
  },
  {
   "cell_type": "code",
   "execution_count": null,
   "metadata": {},
   "outputs": [],
   "source": [
    "# linear regression plot, Start year and views per subscriber, hue on category\n",
    "sns.lmplot(x='Started', y='views_per_sub', data=df2, hue=\"Category\")"
   ]
  },
  {
   "cell_type": "code",
   "execution_count": null,
   "metadata": {},
   "outputs": [],
   "source": [
    "# linear regression plot, Start year and video view count\n",
    "sns.lmplot(x='Started', y='Video Views', data=df2)"
   ]
  },
  {
   "cell_type": "code",
   "execution_count": null,
   "metadata": {},
   "outputs": [],
   "source": [
    "# linear regression plot, Start year and video view count, hue on category\n",
    "sns.lmplot(x='Started', y='Video Views', data=df2, hue=\"Category\")"
   ]
  },
  {
   "cell_type": "code",
   "execution_count": null,
   "metadata": {},
   "outputs": [],
   "source": [
    "# linear regression plot, Start year and video count\n",
    "sns.lmplot(x='Started', y='Video Count', data=df2)"
   ]
  },
  {
   "cell_type": "code",
   "execution_count": null,
   "metadata": {},
   "outputs": [],
   "source": [
    "# linear regression plot, Start year and video count, hue on category\n",
    "sns.lmplot(x='Started', y='Video Count', data=df2, hue=\"Category\")"
   ]
  },
  {
   "cell_type": "code",
   "execution_count": null,
   "metadata": {},
   "outputs": [],
   "source": [
    "# linear regression plot, Start year and rank\n",
    "sns.lmplot(x='Started', y='Rank', data=df2)"
   ]
  },
  {
   "cell_type": "code",
   "execution_count": null,
   "metadata": {},
   "outputs": [],
   "source": [
    "# linear regression plot, Start year and rank, hue on category\n",
    "sns.lmplot(x='Started', y='Rank', data=df2, hue=\"Category\")"
   ]
  },
  {
   "cell_type": "code",
   "execution_count": null,
   "metadata": {},
   "outputs": [],
   "source": [
    "# linear regression plot, Rank and subscribers\n",
    "sns.lmplot(x='Rank', y='Subscribers', data=df2)"
   ]
  },
  {
   "cell_type": "code",
   "execution_count": null,
   "metadata": {},
   "outputs": [],
   "source": [
    "# linear regression plot, Rank and subscribers, hue on category\n",
    "sns.lmplot(x='Rank', y='Subscribers', data=df2, hue=\"Category\")"
   ]
  },
  {
   "cell_type": "code",
   "execution_count": null,
   "metadata": {},
   "outputs": [],
   "source": [
    "# linear regression plot, Rank and views per subscribers\n",
    "sns.lmplot(x='Rank', y='views_per_sub', data=df2)"
   ]
  },
  {
   "cell_type": "code",
   "execution_count": null,
   "metadata": {},
   "outputs": [],
   "source": [
    "# linear regression plot, Rank and views per subscribers, hue on category\n",
    "sns.lmplot(x='Rank', y='views_per_sub', data=df2, hue=\"Category\")"
   ]
  },
  {
   "cell_type": "code",
   "execution_count": null,
   "metadata": {},
   "outputs": [],
   "source": [
    "# linear regression plot, Rank and video view count\n",
    "sns.lmplot(x='Rank', y='Video Views', data=df2)"
   ]
  },
  {
   "cell_type": "code",
   "execution_count": null,
   "metadata": {},
   "outputs": [],
   "source": [
    "# linear regression plot, Rank and video view count, hue on category\n",
    "sns.lmplot(x='Rank', y='Video Views', data=df2, hue=\"Category\")"
   ]
  },
  {
   "cell_type": "code",
   "execution_count": null,
   "metadata": {},
   "outputs": [],
   "source": [
    "# linear regression plot, Rank and video view count, hue on category\n",
    "sns.lmplot(x='Subscribers', y='Video Views', data=df2)"
   ]
  },
  {
   "cell_type": "code",
   "execution_count": null,
   "metadata": {},
   "outputs": [],
   "source": [
    "# linear regression plot, Rank and video view count, hue on category\n",
    "sns.lmplot(x='Subscribers', y='Video Views', data=df2, hue=\"Category\")"
   ]
  },
  {
   "cell_type": "code",
   "execution_count": null,
   "metadata": {},
   "outputs": [],
   "source": [
    "# linear regression plot, Rank and video count, hue on category\n",
    "sns.lmplot(x='Subscribers', y='Video Count', data=df2)"
   ]
  },
  {
   "cell_type": "code",
   "execution_count": null,
   "metadata": {},
   "outputs": [],
   "source": [
    "# linear regression plot, Rank and video count, hue on category\n",
    "sns.lmplot(x='Subscribers', y='Video Count', data=df2, hue=\"Category\")"
   ]
  },
  {
   "cell_type": "code",
   "execution_count": null,
   "metadata": {},
   "outputs": [],
   "source": [
    "# linear regression plot, views per subscribers and video views\n",
    "sns.lmplot(x='views_per_sub', y='Video Views', data=df2)"
   ]
  },
  {
   "cell_type": "code",
   "execution_count": null,
   "metadata": {},
   "outputs": [],
   "source": [
    "# linear regression plot, views per subscribers and video views, hue on category\n",
    "sns.lmplot(x='views_per_sub', y='Video Views', data=df2, hue=\"Category\")"
   ]
  },
  {
   "cell_type": "code",
   "execution_count": null,
   "metadata": {},
   "outputs": [],
   "source": [
    "# linear regression plot, video count and video views\n",
    "sns.lmplot(x='Video Count', y='Video Views', data=df2)"
   ]
  },
  {
   "cell_type": "code",
   "execution_count": null,
   "metadata": {},
   "outputs": [],
   "source": [
    "# linear regression plot, video count and video views, hue on category\n",
    "sns.lmplot(x='Video Count', y='Video Views', data=df2, hue=\"Category\")"
   ]
  },
  {
   "attachments": {},
   "cell_type": "markdown",
   "metadata": {},
   "source": [
    "<h4><b>seaborn plots - box plots</b></h4>"
   ]
  },
  {
   "cell_type": "code",
   "execution_count": null,
   "metadata": {},
   "outputs": [],
   "source": [
    "# helper function that combines years to make it easier to use box plot\n",
    "# data is between 2005 and 2021\n",
    "def combine_years(row):\n",
    "    year = int(row['Started'])\n",
    "\n",
    "    if 2005 <= year < 2009:\n",
    "        return 2005.2009\n",
    "    elif 2009 <= year < 2013:\n",
    "        return 2009.2013\n",
    "    elif 2013 <= year < 2017:\n",
    "        return 2013.2017\n",
    "    else:\n",
    "        return 2017.2021\n",
    "    \n",
    "    \n",
    "# create column    \n",
    "df2['year_span'] = df2.apply(combine_years, axis=1)"
   ]
  },
  {
   "cell_type": "code",
   "execution_count": null,
   "metadata": {},
   "outputs": [],
   "source": [
    "# box plot on category and rank, tilt bottom labels by 45 degrees\n",
    "plt.xticks(rotation=45)\n",
    "sns.boxplot(x='Category', y='Rank', data=df2)"
   ]
  },
  {
   "cell_type": "code",
   "execution_count": null,
   "metadata": {},
   "outputs": [],
   "source": [
    "# box plot on category and subscribers, tilt bottom labels by 45 degrees\n",
    "plt.xticks(rotation=45)\n",
    "sns.boxplot(x='Category', y='Subscribers', data=df2)"
   ]
  },
  {
   "cell_type": "code",
   "execution_count": null,
   "metadata": {},
   "outputs": [],
   "source": [
    "# box plot on category and views per subscribers, tilt bottom labels by 45 degrees\n",
    "plt.xticks(rotation=45)\n",
    "sns.boxplot(x='Category', y='views_per_sub', data=df2)"
   ]
  },
  {
   "cell_type": "code",
   "execution_count": null,
   "metadata": {},
   "outputs": [],
   "source": [
    "# box plot on category and video views, tilt bottom labels by 45 degrees\n",
    "plt.xticks(rotation=45)\n",
    "sns.boxplot(x='Category', y='Video Views', data=df2)"
   ]
  },
  {
   "cell_type": "code",
   "execution_count": null,
   "metadata": {},
   "outputs": [],
   "source": [
    "# box plot on category and video count, tilt bottom labels by 45 degrees\n",
    "plt.xticks(rotation=45)\n",
    "sns.boxplot(x='Category', y='Video Count', data=df2)"
   ]
  },
  {
   "cell_type": "code",
   "execution_count": null,
   "metadata": {},
   "outputs": [],
   "source": [
    "# box plot on year_span and subscribers, tilt bottom labels by 45 degrees\n",
    "plt.xticks(rotation=45)\n",
    "sns.boxplot(x='year_span', y='Subscribers', data=df2, hue='Category')"
   ]
  },
  {
   "cell_type": "code",
   "execution_count": null,
   "metadata": {},
   "outputs": [],
   "source": [
    "# box plot on year_span and video views, tilt bottom labels by 45 degrees\n",
    "plt.xticks(rotation=45)\n",
    "sns.boxplot(x='year_span', y='Video Views', data=df2, hue='Category')"
   ]
  },
  {
   "cell_type": "code",
   "execution_count": null,
   "metadata": {},
   "outputs": [],
   "source": [
    "# box plot on year_span and video count, tilt bottom labels by 45 degrees\n",
    "plt.xticks(rotation=45)\n",
    "sns.boxplot(x='year_span', y='Video Count', data=df2, hue='Category')"
   ]
  },
  {
   "cell_type": "code",
   "execution_count": null,
   "metadata": {},
   "outputs": [],
   "source": [
    "# box plot on year_span and rank, tilt bottom labels by 45 degrees\n",
    "# also move the legend on the right side of data so it doesn't stand on top of the plot\n",
    "plt.xticks(rotation=45)\n",
    "ax = sns.boxplot(x='year_span', y='Rank', data=df2, hue='Category')\n",
    "sns.move_legend(ax, \"upper left\", bbox_to_anchor=(1, 1))"
   ]
  },
  {
   "attachments": {},
   "cell_type": "markdown",
   "metadata": {},
   "source": [
    "<h4><b>seaborn plots - heatmaps for correlation matrices</b></h4>"
   ]
  },
  {
   "cell_type": "code",
   "execution_count": null,
   "metadata": {},
   "outputs": [],
   "source": [
    "# basic heatmap for correlation matrix\n",
    "sns.heatmap(correlations, annot=True)"
   ]
  },
  {
   "cell_type": "code",
   "execution_count": null,
   "metadata": {},
   "outputs": [],
   "source": [
    "# basic heatmap for correlation matrix, only most popular categories\n",
    "sns.heatmap(correlations2, annot=True)"
   ]
  }
 ],
 "metadata": {
  "kernelspec": {
   "display_name": ".venv",
   "language": "python",
   "name": "python3"
  },
  "language_info": {
   "codemirror_mode": {
    "name": "ipython",
    "version": 3
   },
   "file_extension": ".py",
   "mimetype": "text/x-python",
   "name": "python",
   "nbconvert_exporter": "python",
   "pygments_lexer": "ipython3",
   "version": "3.9.13"
  },
  "orig_nbformat": 4
 },
 "nbformat": 4,
 "nbformat_minor": 2
}
