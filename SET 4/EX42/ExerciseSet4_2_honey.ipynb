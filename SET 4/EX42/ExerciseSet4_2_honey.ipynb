{
 "cells": [
  {
   "attachments": {},
   "cell_type": "markdown",
   "metadata": {},
   "source": [
    "<h3><b>Introduction to Data Analytics - Exercise set 4, exercise 2</b></h3>\n",
    "<h4><b>Honey production dataset</b></h4>\n",
    "<img src=\"http://srv.plab.fi/~tuomasv/data_analytics_2023_images/exercise_set_4/honey.png\" />"
   ]
  },
  {
   "attachments": {},
   "cell_type": "markdown",
   "metadata": {},
   "source": [
    "<b>Tip:</b> You can just click \"Run All\" to see the results of this notebook. Some of these exercises have some heavy plots that can take even 1 minute to produce."
   ]
  },
  {
   "attachments": {},
   "cell_type": "markdown",
   "metadata": {},
   "source": [
    "<b>Remember:</b> not every dataset has interesting correlations and/or features (too much randomness or variance usually, or not enough data). Also, not each correlation implies there's a causation. Finally, not every plot is useful, that's why it's important to try multiple plots in order to \"see under the hood\". Typically pair plots, joint plots, regression plots, heatmaps and box plots are most useful, but there are some exceptions too."
   ]
  },
  {
   "attachments": {},
   "cell_type": "markdown",
   "metadata": {},
   "source": [
    "<h3><b>Quick summary of data:</b></h3>\n",
    "\n",
    "<p>This dataset contains a sample of honey production in USA from various different states, from years 1995 to 2021. There are many interesting variables in the dataset, including production (colonies number * yield per colony), value of production (production * average price), amount of stocks owned by the producer, average price, colony number and yield per colony.</p>\n",
    "<p>This notebook uses heavily the quantile -feature in the query-function in pandas. This allows us to inspect to the top 25% honey companies in the set based on production, as well se companies in the 25-50%, 50-75% quantiles as well as lowest 25% companies.See code comments for more details what has been done with the dataset.</p>\n",
    "<p>Kaggle page: <a href=\"https://www.kaggle.com/datasets/mohitpoudel/us-honey-production-19952021\">https://www.kaggle.com/datasets/mohitpoudel/us-honey-production-19952021</a></p>"
   ]
  },
  {
   "attachments": {},
   "cell_type": "markdown",
   "metadata": {},
   "source": [
    "<h3><b>Questions for this exercise:</b></h3>\n",
    "<b>Answer the questions either as code comments or as markdown. Use separate cells to write your answers.</b><br/><br/>\n",
    "<li>Can you find any states that have got more successful in terms of different variables in this dataset?</li>\n",
    "<li>Something has happened to honey production overall during the years. Which variables show this best? Can you find anything with Google why this phenomenon might have a happened?</li>\n",
    "<li>Which seaborn plots are useful in this notebook, and which are not? Why? (you can remove the unnecessary plots from this notebook if you wish too). Note: there are many not-so-useful plots in this notebook.</li>\n",
    "<li>Which are more useful in this case, correlations or plots? Or are they both useful?</li>\n",
    "<li>How does the hue change the perspective of the data in the regression plots?</li>\n",
    "\n",
    "<b>Extra questions/tasks for extra points:</b>\n",
    "<li>If you find new insight or features in this dataset by using some other plots and/or pandas tricks, you can do so. In that case, please create a new section for the needed code cells you created accompanied with either code comments or markdown.  </li>\n",
    "<li>Any other ideas about this dataset? Any ways to expand or improve the dataset and the analysis?</li>\n",
    "<li>This notebook mostly concentrates on the most productive honey producers. You can also inspect different quantiles (df2, df3, df4). Are there any differences when compared to the top DataFrame?</li>\n"
   ]
  },
  {
   "attachments": {},
   "cell_type": "markdown",
   "metadata": {},
   "source": [
    "<hr />"
   ]
  },
  {
   "attachments": {},
   "cell_type": "markdown",
   "metadata": {},
   "source": [
    "<h4><b>Imports and load the original dataset</b></h4>"
   ]
  },
  {
   "cell_type": "code",
   "execution_count": null,
   "metadata": {},
   "outputs": [],
   "source": [
    "# import the common data analytics modules\n",
    "import numpy as np\n",
    "import pandas as pd\n",
    "import seaborn as sns\n",
    "import matplotlib.pyplot as plt"
   ]
  },
  {
   "attachments": {},
   "cell_type": "markdown",
   "metadata": {},
   "source": [
    "<h4><b>Load the dataset and clean up data</b></h4>"
   ]
  },
  {
   "cell_type": "code",
   "execution_count": null,
   "metadata": {},
   "outputs": [],
   "source": [
    "# load the dataset and remove first column (duplicate index)\n",
    "df = pd.read_csv(\"US_honey_dataset.csv\")\n",
    "del df[df.columns[0]]\n",
    "\n",
    "# let's see how many different states we have here (44 in total)\n",
    "states = df['state'].value_counts()\n",
    "print(states)\n",
    "\n",
    "print(\"\\nAmount of different states:\")\n",
    "print(len(states))\n",
    "\n",
    "# create a helper DataFrame and group by state and production\n",
    "values = df.groupby('state').sum().sort_values(by=['production'], ascending=False)\n",
    "\n",
    "# get lists of states by production, one for each 25% quantile\n",
    "df_highest = list(values.query('production >= production.quantile(q=0.75)').index)\n",
    "df_average_plus = list(values.query('production >= production.quantile(q=0.50) and production < production.quantile(q=0.75)').index)\n",
    "df_average_minus = list(values.query('production >= production.quantile(q=0.25) and production < production.quantile(q=0.50)').index)\n",
    "df_lowest = list(values.query('production < production.quantile(q=0.25)').index)\n",
    "\n",
    "# filter the corresponding states into their DataFrames\n",
    "df1 = df[df['state'].isin(df_highest)]\n",
    "df2 = df[df['state'].isin(df_average_plus)]\n",
    "df3 = df[df['state'].isin(df_average_minus)]\n",
    "df4 = df[df['state'].isin(df_lowest)]\n",
    "\n",
    "# let's save the correlation matrices too\n",
    "correlations = df.corr(numeric_only=True)\n",
    "correlations1 = df1.corr(numeric_only=True)\n",
    "correlations2 = df2.corr(numeric_only=True)\n",
    "correlations3 = df3.corr(numeric_only=True)\n",
    "correlations4 = df4.corr(numeric_only=True)\n",
    "\n",
    "# the data is otherwise fairly clean"
   ]
  },
  {
   "attachments": {},
   "cell_type": "markdown",
   "metadata": {},
   "source": [
    "<h4><b>seaborn plotting - pair plots</b></h4>"
   ]
  },
  {
   "cell_type": "code",
   "execution_count": null,
   "metadata": {},
   "outputs": [],
   "source": [
    "# basic pair plot\n",
    "sns.pairplot(df1)"
   ]
  },
  {
   "cell_type": "code",
   "execution_count": null,
   "metadata": {},
   "outputs": [],
   "source": [
    "# pair plot, hue on state\n",
    "sns.pairplot(df1, hue=\"state\")"
   ]
  },
  {
   "attachments": {},
   "cell_type": "markdown",
   "metadata": {},
   "source": [
    "<h4><b>seaborn plotting - regression plots</b></h4>"
   ]
  },
  {
   "cell_type": "code",
   "execution_count": null,
   "metadata": {},
   "outputs": [],
   "source": [
    "# regression plot for value of production and year\n",
    "sns.lmplot(x='year', y='value_of_production', data=df1)"
   ]
  },
  {
   "cell_type": "code",
   "execution_count": null,
   "metadata": {},
   "outputs": [],
   "source": [
    "# regression plot for value of production and year, hue on state\n",
    "sns.lmplot(x='year', y='value_of_production', data=df1, hue='state')"
   ]
  },
  {
   "cell_type": "code",
   "execution_count": null,
   "metadata": {},
   "outputs": [],
   "source": [
    "# regression plot for value of average price and year\n",
    "sns.lmplot(x='year', y='average_price', data=df1)"
   ]
  },
  {
   "cell_type": "code",
   "execution_count": null,
   "metadata": {},
   "outputs": [],
   "source": [
    "# regression plot for value of average price and year, hue on state\n",
    "sns.lmplot(x='year', y='average_price', data=df1, hue='state')"
   ]
  },
  {
   "cell_type": "code",
   "execution_count": null,
   "metadata": {},
   "outputs": [],
   "source": [
    "# regression plot for yield per colony and year\n",
    "sns.lmplot(x='year', y='yield_per_colony', data=df1)"
   ]
  },
  {
   "cell_type": "code",
   "execution_count": null,
   "metadata": {},
   "outputs": [],
   "source": [
    "# regression plot for yield per colony and year, hue on state\n",
    "sns.lmplot(x='year', y='yield_per_colony', data=df1, hue='state')"
   ]
  },
  {
   "cell_type": "code",
   "execution_count": null,
   "metadata": {},
   "outputs": [],
   "source": [
    "# regression plot for production and year\n",
    "sns.lmplot(x='year', y='production', data=df1)"
   ]
  },
  {
   "cell_type": "code",
   "execution_count": null,
   "metadata": {},
   "outputs": [],
   "source": [
    "# regression plot for production and year, hue on state\n",
    "sns.lmplot(x='year', y='production', data=df1, hue='state')"
   ]
  },
  {
   "cell_type": "code",
   "execution_count": null,
   "metadata": {},
   "outputs": [],
   "source": [
    "# regression plot for yield per colony and stockse\n",
    "sns.lmplot(x='stocks', y='yield_per_colony', data=df1)"
   ]
  },
  {
   "cell_type": "code",
   "execution_count": null,
   "metadata": {},
   "outputs": [],
   "source": [
    "# regression plot for yield per colony and stocks, hue on state\n",
    "sns.lmplot(x='stocks', y='yield_per_colony', data=df1, hue='state')"
   ]
  },
  {
   "cell_type": "code",
   "execution_count": null,
   "metadata": {},
   "outputs": [],
   "source": [
    "# regression plot for colonies number and stocks\n",
    "sns.lmplot(x='stocks', y='colonies_number', data=df1)"
   ]
  },
  {
   "cell_type": "code",
   "execution_count": null,
   "metadata": {},
   "outputs": [],
   "source": [
    "# regression plot for colonies number and stocks, hue on state\n",
    "sns.lmplot(x='stocks', y='colonies_number', data=df1, hue='state')"
   ]
  },
  {
   "cell_type": "code",
   "execution_count": null,
   "metadata": {},
   "outputs": [],
   "source": [
    "# regression plot for production and stocks\n",
    "sns.lmplot(x='stocks', y='production', data=df1)"
   ]
  },
  {
   "cell_type": "code",
   "execution_count": null,
   "metadata": {},
   "outputs": [],
   "source": [
    "# regression plot for production and stocks, hue on state\n",
    "sns.lmplot(x='stocks', y='production', data=df1, hue='state')"
   ]
  },
  {
   "cell_type": "code",
   "execution_count": null,
   "metadata": {},
   "outputs": [],
   "source": [
    "# regression plot for yield per colony and colonies number\n",
    "sns.lmplot(x='colonies_number', y='yield_per_colony', data=df1)"
   ]
  },
  {
   "cell_type": "code",
   "execution_count": null,
   "metadata": {},
   "outputs": [],
   "source": [
    "# regression plot for yield per colony and colonies number, hue on state\n",
    "sns.lmplot(x='colonies_number', y='yield_per_colony', data=df1, hue='state')"
   ]
  },
  {
   "cell_type": "code",
   "execution_count": null,
   "metadata": {},
   "outputs": [],
   "source": [
    "# regression plot for stocks and year\n",
    "sns.lmplot(x='year', y='stocks', data=df1)"
   ]
  },
  {
   "cell_type": "code",
   "execution_count": null,
   "metadata": {},
   "outputs": [],
   "source": [
    "# regression plot for stocks and year, hue on state\n",
    "sns.lmplot(x='year', y='stocks', data=df1, hue='state')"
   ]
  },
  {
   "cell_type": "code",
   "execution_count": null,
   "metadata": {},
   "outputs": [],
   "source": [
    "# regression plot for value of production and yield per colony\n",
    "sns.lmplot(x='yield_per_colony', y='value_of_production', data=df1)"
   ]
  },
  {
   "cell_type": "code",
   "execution_count": null,
   "metadata": {},
   "outputs": [],
   "source": [
    "# regression plot for value of production and yield per colony, hue on state\n",
    "sns.lmplot(x='yield_per_colony', y='value_of_production', data=df1, hue='state')"
   ]
  },
  {
   "cell_type": "code",
   "execution_count": null,
   "metadata": {},
   "outputs": [],
   "source": [
    "# regression plot for value of production and production\n",
    "sns.lmplot(x='production', y='value_of_production', data=df1)"
   ]
  },
  {
   "cell_type": "code",
   "execution_count": null,
   "metadata": {},
   "outputs": [],
   "source": [
    "# regression plot for value of production and production, hue on state\n",
    "sns.lmplot(x='production', y='value_of_production', data=df1, hue='state')"
   ]
  },
  {
   "cell_type": "code",
   "execution_count": null,
   "metadata": {},
   "outputs": [],
   "source": [
    "# regression plot for colonies number and production\n",
    "sns.lmplot(x='production', y='colonies_number', data=df1)"
   ]
  },
  {
   "cell_type": "code",
   "execution_count": null,
   "metadata": {},
   "outputs": [],
   "source": [
    "# regression plot for colonies number and production, hue on state\n",
    "sns.lmplot(x='production', y='colonies_number', data=df1, hue='state')"
   ]
  },
  {
   "attachments": {},
   "cell_type": "markdown",
   "metadata": {},
   "source": [
    "<h4><b>seaborn plotting - box plots</b></h4>"
   ]
  },
  {
   "cell_type": "code",
   "execution_count": null,
   "metadata": {},
   "outputs": [],
   "source": [
    "# box plot on state and production, tilt x-labels a little so we can see them better\n",
    "plt.xticks(rotation=45)\n",
    "sns.boxplot(x='state', y='production', data=df1)"
   ]
  },
  {
   "cell_type": "code",
   "execution_count": null,
   "metadata": {},
   "outputs": [],
   "source": [
    "# just out of curiosity... can be see something if we use decades instead of years \n",
    "# for boxplot (too many different years for a boxplot otherwise)\n",
    "df_four_big = df[df['state'].isin(['California', 'Florida', 'NorthDakota', 'SouthDakota'])].copy()\n",
    "\n",
    "def create_year_spans(row):\n",
    "    year = int(row['year'])\n",
    "    \n",
    "    if year < 2000:\n",
    "        return 1990\n",
    "    elif 2000 <= year <= 2010:\n",
    "        return 2000\n",
    "    else:\n",
    "        return 2010\n",
    "\n",
    "# create new column for decade and drop original year\n",
    "df_four_big['decade'] = df_four_big.apply(create_year_spans, axis=1)\n",
    "df_four_big = df_four_big.drop('year', axis=1)"
   ]
  },
  {
   "cell_type": "code",
   "execution_count": null,
   "metadata": {},
   "outputs": [],
   "source": [
    "# box plot on decade andp production, hue on state\n",
    "sns.boxplot(x='decade', y='production', data=df_four_big, hue='state')"
   ]
  },
  {
   "cell_type": "code",
   "execution_count": null,
   "metadata": {},
   "outputs": [],
   "source": [
    "# box plot on decade andp stocks, hue on state\n",
    "sns.boxplot(x='decade', y='stocks', data=df_four_big, hue='state')"
   ]
  },
  {
   "cell_type": "code",
   "execution_count": null,
   "metadata": {},
   "outputs": [],
   "source": [
    "# box plot on decade and value of production, hue on state\n",
    "sns.boxplot(x='decade', y='value_of_production', data=df_four_big, hue='state')"
   ]
  },
  {
   "cell_type": "code",
   "execution_count": null,
   "metadata": {},
   "outputs": [],
   "source": [
    "# box plot on decade and yield per colony, hue on state\n",
    "sns.boxplot(x='decade', y='yield_per_colony', data=df_four_big, hue='state')"
   ]
  },
  {
   "cell_type": "code",
   "execution_count": null,
   "metadata": {},
   "outputs": [],
   "source": [
    "# box plot on decade and average price, hue on state\n",
    "sns.boxplot(x='decade', y='average_price', data=df_four_big, hue='state')"
   ]
  },
  {
   "cell_type": "code",
   "execution_count": null,
   "metadata": {},
   "outputs": [],
   "source": [
    "# box plot on decade and colonies number, hue on state\n",
    "sns.boxplot(x='decade', y='colonies_number', data=df_four_big, hue='state')"
   ]
  },
  {
   "attachments": {},
   "cell_type": "markdown",
   "metadata": {},
   "source": [
    "<h4><b>seaborn plotting - heatmaps</b></h4>"
   ]
  },
  {
   "cell_type": "code",
   "execution_count": null,
   "metadata": {},
   "outputs": [],
   "source": [
    "# heatmap for correlations for all data\n",
    "sns.heatmap(correlations, annot=True)"
   ]
  },
  {
   "cell_type": "code",
   "execution_count": null,
   "metadata": {},
   "outputs": [],
   "source": [
    "# heatmap for correlations for top 25% producers\n",
    "sns.heatmap(correlations1, annot=True)"
   ]
  }
 ],
 "metadata": {
  "kernelspec": {
   "display_name": ".venv",
   "language": "python",
   "name": "python3"
  },
  "language_info": {
   "codemirror_mode": {
    "name": "ipython",
    "version": 3
   },
   "file_extension": ".py",
   "mimetype": "text/x-python",
   "name": "python",
   "nbconvert_exporter": "python",
   "pygments_lexer": "ipython3",
   "version": "3.9.13"
  },
  "orig_nbformat": 4
 },
 "nbformat": 4,
 "nbformat_minor": 2
}
