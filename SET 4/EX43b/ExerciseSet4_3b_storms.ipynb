{
 "cells": [
  {
   "attachments": {},
   "cell_type": "markdown",
   "metadata": {},
   "source": [
    "<h3><b>Introduction to Data Analytics - Exercise set 4, exercise 3b</b></h3>\n",
    "<h4><b>Storms dataset</b></h4>\n",
    "\n",
    "<img src=\"http://srv.plab.fi/~tuomasv/data_analytics_2023_images/exercise_set_4/hurricane.png\" />"
   ]
  },
  {
   "attachments": {},
   "cell_type": "markdown",
   "metadata": {},
   "source": [
    "<b>Tip:</b> You can just click \"Run All\" to see the results of this notebook. Some of these exercises have some heavy plots that can take even 1 minute to produce."
   ]
  },
  {
   "attachments": {},
   "cell_type": "markdown",
   "metadata": {},
   "source": [
    "<b>Remember:</b> not every dataset has interesting correlations and/or features (too much randomness or variance usually, or not enough data). Also, not each correlation implies there's a causation. Finally, not every plot is useful, that's why it's important to try multiple plots in order to \"see under the hood\". Typically pair plots, joint plots, regression plots, heatmaps and box plots are most useful, but there are some exceptions too."
   ]
  },
  {
   "attachments": {},
   "cell_type": "markdown",
   "metadata": {},
   "source": [
    "<h3><b>Quick summary of data:</b></h3>\n",
    "\n",
    "<p>This datasets contains data about storms and hurricanes in the Atlantic. The data is from 1975 to 2021. Some older data has missing data. The status -column contains the storm classification, the category is based on Saffir-Simpson hurricane category (N/A, 0-5. 5 is most severe).</p>\n",
    "<p>This dataset is also split into quantiles by pandas.</p>\n",
    "<p>Original data: <a href=\"https://vincentarelbundock.github.io/Rdatasets/doc/dplyr/storms.html\">https://vincentarelbundock.github.io/Rdatasets/doc/dplyr/storms.html</a></p>"
   ]
  },
  {
   "attachments": {},
   "cell_type": "markdown",
   "metadata": {},
   "source": [
    "<h3><b>Questions for this exercise:</b></h3>\n",
    "<b>Answer the questions either as code comments or as markdown. Use separate cells to write your answers.</b><br/><br/>\n",
    "<li>What determines a strong hurricane? This information is of course already in the category -column, but there seems to be two columns that define a strong hurricane. What are these variables, and how they seem to correlate with each other in case of a severe hurricane?</li>\n",
    "<li>Based on the dataset, when is the most active hurricane season (months) in Atlantic?</li>\n",
    "<li>Which seaborn plots are useful in this notebook, and which are not? Why? (you can remove the unnecessary plots from this notebook if you wish too).</li>\n",
    "<li>Which are more useful in this case, correlations or plots? Or are they both useful?</li>\n",
    "\n",
    "<b>Extra questions/tasks for extra points:</b>\n",
    "<li>Based on this dataset, which hurricanes in this dataset seem to be strongest, and what were they called? (use Google). Note that actual statistics might differ from this dataset, since this dataset is only a sample of observations. (tip: in addition to looking at the seaborn plots, you can also inspect the pandas DataFrames)</li>\n",
    "<li>The strongest hurricanes in the dataset seem to show a certain behavior when it comes to time. When does this happen (clockwise) and can you find an explanation for this by using Google?</li>\n",
    "<li>This notebook mostly concentrates on the top 25% hurricanes. Can you find something interesting in the other quantiles?</li>\n",
    "<li>Any other ideas about this dataset? Any ways to expand or improve the dataset and the analysis?</li>\n"
   ]
  },
  {
   "attachments": {},
   "cell_type": "markdown",
   "metadata": {},
   "source": [
    "<hr />"
   ]
  },
  {
   "attachments": {},
   "cell_type": "markdown",
   "metadata": {},
   "source": [
    "<h4><b>Imports and load the original dataset</b></h4>"
   ]
  },
  {
   "cell_type": "code",
   "execution_count": null,
   "metadata": {},
   "outputs": [],
   "source": [
    "# import the common data analytics modules\n",
    "import numpy as np\n",
    "import pandas as pd\n",
    "import seaborn as sns\n",
    "import matplotlib.pyplot as plt"
   ]
  },
  {
   "cell_type": "code",
   "execution_count": null,
   "metadata": {},
   "outputs": [],
   "source": [
    "# load dataset\n",
    "df = pd.read_csv('storms.csv')\n",
    "\n",
    "# coordinates not needed at this point, remove\n",
    "df = df.drop('lat', axis=1)\n",
    "df = df.drop('long', axis=1)\n",
    "\n",
    "# handle missing values, since seaborn (or machine learning) doesn't work with them\n",
    "\n",
    "# if category is missing, fill with category 0 (least severe)\n",
    "df['category'] = df['category'].fillna(0)\n",
    "\n",
    "# if diameters are missing, fill with 0\n",
    "df['tropicalstorm_force_diameter'] = df['tropicalstorm_force_diameter'].fillna(0)\n",
    "df['hurricane_force_diameter'] = df['hurricane_force_diameter'].fillna(0)\n",
    "\n",
    "# whatever is left with missing data, remove it\n",
    "df = df.dropna()\n",
    "\n",
    "# day brings too much variance in the dataset, remove it\n",
    "df = df.drop('day', axis=1)\n",
    "\n",
    "# finally, reset index and drop the original index\n",
    "df = df.reset_index()\n",
    "df = df.drop('index', axis=1)\n",
    "del df[df.columns[0]]\n",
    "\n",
    "# group by name of the hurricane as well as wind and pressure\n",
    "values = df.groupby('name').sum(numeric_only=True).sort_values(by=['wind', 'pressure'], ascending=False)\n",
    "\n",
    "# split to quantiles\n",
    "df_highest = list(values.query('wind >= wind.quantile(q=0.94)').index)\n",
    "df_average_plus = list(values.query('wind >= wind.quantile(q=0.68) and wind < wind.quantile(q=0.94)').index)\n",
    "df_average_minus = list(values.query('wind >= wind.quantile(q=0.25) and wind < wind.quantile(q=0.68)').index)\n",
    "df_lowest = list(values.query('wind < wind.quantile(q=0.25)').index)\n",
    "\n",
    "# create dataframes based on quantile hurricanes\n",
    "df1 = df[df['name'].isin(df_highest)]\n",
    "df2 = df[df['name'].isin(df_average_plus)]\n",
    "df3 = df[df['name'].isin(df_average_minus)]\n",
    "df4 = df[df['name'].isin(df_lowest)]\n",
    "\n",
    "# correlation matrices\n",
    "correlations = df.corr(numeric_only=True)\n",
    "correlations1 = df1.corr(numeric_only=True)\n",
    "correlations2 = df2.corr(numeric_only=True)\n",
    "correlations3 = df3.corr(numeric_only=True)\n",
    "correlations4 = df4.corr(numeric_only=True)"
   ]
  },
  {
   "attachments": {},
   "cell_type": "markdown",
   "metadata": {},
   "source": [
    "<h4><b>seaborn plots - pairplots</b></h4>"
   ]
  },
  {
   "cell_type": "code",
   "execution_count": null,
   "metadata": {},
   "outputs": [],
   "source": [
    "# basic pair plot\n",
    "sns.pairplot(df1)"
   ]
  },
  {
   "cell_type": "code",
   "execution_count": null,
   "metadata": {},
   "outputs": [],
   "source": [
    "# basic pair plot, hue on status\n",
    "sns.pairplot(df1, hue=\"status\")"
   ]
  },
  {
   "attachments": {},
   "cell_type": "markdown",
   "metadata": {},
   "source": [
    "<h4><b>seaborn plots - heatmaps</b></h4>"
   ]
  },
  {
   "cell_type": "code",
   "execution_count": null,
   "metadata": {},
   "outputs": [],
   "source": [
    "# pivot table + heatmap for month/year and wind\n",
    "pt = df1.pivot_table(index='month', columns='year', values='wind')\n",
    "sns.heatmap(pt, cmap='coolwarm')"
   ]
  },
  {
   "cell_type": "code",
   "execution_count": null,
   "metadata": {},
   "outputs": [],
   "source": [
    "# pivot table + heatmap for month/year and pressure\n",
    "pt = df1.pivot_table(index='month', columns='year', values='pressure')\n",
    "sns.heatmap(pt, cmap='coolwarm')"
   ]
  },
  {
   "cell_type": "code",
   "execution_count": null,
   "metadata": {},
   "outputs": [],
   "source": [
    "# pivot table + heatmap for month/year and wind\n",
    "pt = df1.pivot_table(index='month', columns='hour', values='wind')\n",
    "sns.heatmap(pt, cmap='coolwarm')"
   ]
  },
  {
   "cell_type": "code",
   "execution_count": null,
   "metadata": {},
   "outputs": [],
   "source": [
    "# pivot table + heatmap for month/year and pressure\n",
    "pt = df1.pivot_table(index='month', columns='hour', values='pressure')\n",
    "sns.heatmap(pt, cmap='coolwarm')"
   ]
  },
  {
   "attachments": {},
   "cell_type": "markdown",
   "metadata": {},
   "source": [
    "<h4><b>seaborn plots - regression plots</b></h4>"
   ]
  },
  {
   "cell_type": "code",
   "execution_count": null,
   "metadata": {},
   "outputs": [],
   "source": [
    "# regression plot for wind/year, hue on category\n",
    "sns.lmplot(x='year', y='wind', data=df1, hue='category')"
   ]
  },
  {
   "cell_type": "code",
   "execution_count": null,
   "metadata": {},
   "outputs": [],
   "source": [
    "# regression plot for wind/month, hue on category\n",
    "sns.lmplot(x='month', y='wind', data=df1, hue='category')"
   ]
  },
  {
   "cell_type": "code",
   "execution_count": null,
   "metadata": {},
   "outputs": [],
   "source": [
    "# regression plot for wind/year, hue on status\n",
    "sns.lmplot( x='year', y='wind', data=df1, hue='status')"
   ]
  },
  {
   "cell_type": "code",
   "execution_count": null,
   "metadata": {},
   "outputs": [],
   "source": [
    "# regression plot for pressure/year, hue on category\n",
    "sns.lmplot(x='year', y='pressure', data=df1, hue='category')"
   ]
  },
  {
   "cell_type": "code",
   "execution_count": null,
   "metadata": {},
   "outputs": [],
   "source": [
    "# regression plot for pressure/month, hue on category\n",
    "sns.lmplot(x='month', y='pressure', data=df1, hue='category')"
   ]
  },
  {
   "cell_type": "code",
   "execution_count": null,
   "metadata": {},
   "outputs": [],
   "source": [
    "# regression plot for pressure_month, hue on status\n",
    "sns.lmplot(x='month', y='pressure', data=df1, hue='status')"
   ]
  },
  {
   "cell_type": "code",
   "execution_count": null,
   "metadata": {},
   "outputs": [],
   "source": [
    "# regression plot for hurricane force diameter and year, hue on status\n",
    "sns.lmplot(x='year', y='hurricane_force_diameter', data=df1, hue='status')"
   ]
  },
  {
   "cell_type": "code",
   "execution_count": null,
   "metadata": {},
   "outputs": [],
   "source": [
    "# regression plot for tropical storm diameter and year, hue on status\n",
    "sns.lmplot(x='year', y='tropicalstorm_force_diameter', data=df1, hue='status')"
   ]
  },
  {
   "attachments": {},
   "cell_type": "markdown",
   "metadata": {},
   "source": [
    "<h4><b>seaborn plots - boxplots</b></h4>"
   ]
  },
  {
   "cell_type": "code",
   "execution_count": null,
   "metadata": {},
   "outputs": [],
   "source": [
    "# boxplot, category/wind, hue on status\n",
    "sns.boxplot(x='category', y='wind', data=df1, hue='status')"
   ]
  },
  {
   "cell_type": "code",
   "execution_count": null,
   "metadata": {},
   "outputs": [],
   "source": [
    "# boxplot, category/pressure, hue on status\n",
    "sns.boxplot(x='category', y='pressure', data=df1, hue='status')"
   ]
  },
  {
   "cell_type": "code",
   "execution_count": null,
   "metadata": {},
   "outputs": [],
   "source": [
    "# boxplot, category/hurricane force diameter, hue on status\n",
    "sns.boxplot(x='category', y='hurricane_force_diameter', data=df1, hue='status')"
   ]
  },
  {
   "attachments": {},
   "cell_type": "markdown",
   "metadata": {},
   "source": [
    "<h4><b>seaborn plots - heatmaps for correlations matrices</b></h4>"
   ]
  },
  {
   "cell_type": "code",
   "execution_count": null,
   "metadata": {},
   "outputs": [],
   "source": [
    "# correlation matrix heatmap, whole dataset\n",
    "sns.heatmap(correlations, annot=True)"
   ]
  },
  {
   "cell_type": "code",
   "execution_count": null,
   "metadata": {},
   "outputs": [],
   "source": [
    "# correlation matrix heatmap for top hurricanes\n",
    "sns.heatmap(correlations1, annot=True)"
   ]
  }
 ],
 "metadata": {
  "kernelspec": {
   "display_name": "Python 3.9.13 ('.venv': venv)",
   "language": "python",
   "name": "python3"
  },
  "language_info": {
   "codemirror_mode": {
    "name": "ipython",
    "version": 3
   },
   "file_extension": ".py",
   "mimetype": "text/x-python",
   "name": "python",
   "nbconvert_exporter": "python",
   "pygments_lexer": "ipython3",
   "version": "3.9.13"
  },
  "orig_nbformat": 4,
  "vscode": {
   "interpreter": {
    "hash": "3bc3bf9eecd44de573c9627ba1e399657281629afda28e4e179890a14ac2cfc2"
   }
  }
 },
 "nbformat": 4,
 "nbformat_minor": 2
}
